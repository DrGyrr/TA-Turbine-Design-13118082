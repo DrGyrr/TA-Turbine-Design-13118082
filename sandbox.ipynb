{
 "cells": [
  {
   "cell_type": "code",
   "execution_count": 19,
   "metadata": {},
   "outputs": [
    {
     "name": "stdout",
     "output_type": "stream",
     "text": [
      "x:\\TA-Turbine-Design-13118082\n",
      "x:\\TA-Turbine-Design-13118082\\Inputs\\cyclelist.csv\n"
     ]
    },
    {
     "data": {
      "text/html": [
       "<div>\n",
       "<style scoped>\n",
       "    .dataframe tbody tr th:only-of-type {\n",
       "        vertical-align: middle;\n",
       "    }\n",
       "\n",
       "    .dataframe tbody tr th {\n",
       "        vertical-align: top;\n",
       "    }\n",
       "\n",
       "    .dataframe thead th {\n",
       "        text-align: right;\n",
       "    }\n",
       "</style>\n",
       "<table border=\"1\" class=\"dataframe\">\n",
       "  <thead>\n",
       "    <tr style=\"text-align: right;\">\n",
       "      <th></th>\n",
       "      <th>Unnamed: 0</th>\n",
       "      <th>fluid</th>\n",
       "      <th>T_1</th>\n",
       "      <th>P_1</th>\n",
       "      <th>T_5</th>\n",
       "      <th>P_5</th>\n",
       "      <th>mflow</th>\n",
       "    </tr>\n",
       "  </thead>\n",
       "  <tbody>\n",
       "    <tr>\n",
       "      <th>0</th>\n",
       "      <td>1</td>\n",
       "      <td>R245fa</td>\n",
       "      <td>360.0</td>\n",
       "      <td>0.9</td>\n",
       "      <td>335.4</td>\n",
       "      <td>0.4</td>\n",
       "      <td>0.5</td>\n",
       "    </tr>\n",
       "    <tr>\n",
       "      <th>1</th>\n",
       "      <td>2</td>\n",
       "      <td>NaN</td>\n",
       "      <td>NaN</td>\n",
       "      <td>NaN</td>\n",
       "      <td>NaN</td>\n",
       "      <td>NaN</td>\n",
       "      <td>NaN</td>\n",
       "    </tr>\n",
       "    <tr>\n",
       "      <th>2</th>\n",
       "      <td>3</td>\n",
       "      <td>NaN</td>\n",
       "      <td>NaN</td>\n",
       "      <td>NaN</td>\n",
       "      <td>NaN</td>\n",
       "      <td>NaN</td>\n",
       "      <td>NaN</td>\n",
       "    </tr>\n",
       "    <tr>\n",
       "      <th>3</th>\n",
       "      <td>4</td>\n",
       "      <td>NaN</td>\n",
       "      <td>NaN</td>\n",
       "      <td>NaN</td>\n",
       "      <td>NaN</td>\n",
       "      <td>NaN</td>\n",
       "      <td>NaN</td>\n",
       "    </tr>\n",
       "    <tr>\n",
       "      <th>4</th>\n",
       "      <td>5</td>\n",
       "      <td>NaN</td>\n",
       "      <td>NaN</td>\n",
       "      <td>NaN</td>\n",
       "      <td>NaN</td>\n",
       "      <td>NaN</td>\n",
       "      <td>NaN</td>\n",
       "    </tr>\n",
       "  </tbody>\n",
       "</table>\n",
       "</div>"
      ],
      "text/plain": [
       "   Unnamed: 0   fluid    T_1  P_1    T_5  P_5  mflow\n",
       "0           1  R245fa  360.0  0.9  335.4  0.4    0.5\n",
       "1           2     NaN    NaN  NaN    NaN  NaN    NaN\n",
       "2           3     NaN    NaN  NaN    NaN  NaN    NaN\n",
       "3           4     NaN    NaN  NaN    NaN  NaN    NaN\n",
       "4           5     NaN    NaN  NaN    NaN  NaN    NaN"
      ]
     },
     "execution_count": 19,
     "metadata": {},
     "output_type": "execute_result"
    }
   ],
   "source": [
    "import os\n",
    "Rutedir = os.path.dirname(os.path.abspath('__file__'))\n",
    "print(Rutedir)\n",
    "print(os.path.join(Rutedir,\"Inputs\\cyclelist.csv\"))\n",
    "rute=os.path.join(Rutedir,\"Inputs\\cyclelist.csv\")\n",
    "\n",
    "import pandas as pd\n",
    "dftessy=pd.read_csv(rute,skiprows=1,header=0,)\n",
    "dftessy.head()"
   ]
  },
  {
   "cell_type": "code",
   "execution_count": 57,
   "metadata": {},
   "outputs": [
    {
     "name": "stdout",
     "output_type": "stream",
     "text": [
      "x:\\TA-Turbine-Design-13118082\n",
      "[[ 9.  8.  7.  6.  5. 54.]\n",
      " [ 5.  0. nan nan nan nan]\n",
      " [ 4. nan  3. nan nan nan]\n",
      " [77. nan nan nan  3. nan]\n",
      " [ 4. nan nan nan nan  2.]\n",
      " [67. nan nan nan nan 69.]]\n",
      "4623.0\n"
     ]
    }
   ],
   "source": [
    "from definitions import *\n",
    "import numpy as np\n",
    "import pandas as pd\n",
    "print(ROOT_DIR)\n",
    "global p\n",
    "n=0\n",
    "p=np.zeros(shape=(6, 6))\n",
    "dffitfun = pd.read_csv(os.path.join(ROOT_DIR,\"Inputs\",\"fittedpolycoeffs\",f\"{n}.csv\"),skiprows=5,usecols=range(1,7),header=0,index_col=False)\n",
    "dffitfun.tail()\n",
    "for i in range(0,6):\n",
    "    for j in range(0,6):\n",
    "        p[i][j]=dffitfun.iloc[i][j]\n",
    "print(p)\n",
    "print(p[5][0]*p[5][5])"
   ]
  },
  {
   "cell_type": "code",
   "execution_count": 139,
   "metadata": {},
   "outputs": [
    {
     "name": "stdout",
     "output_type": "stream",
     "text": [
      "Rr5r4\n",
      "Rb5b4\n",
      "Rb4r4\n",
      "RZrr4\n",
      "NR\n"
     ]
    }
   ],
   "source": [
    "import pandas as pd\n",
    "import os\n",
    "from ifrturbinepackage.definitions import *\n",
    "import numpy as np\n",
    "# gparamlist=[Rr5r4,Rb5b4,Rb4r4,RZrr4,NR]\n",
    "# i=1\n",
    "# dfgparams=pd.read_csv(os.path.join(ROOT_DIR,\"Inputs\\gparamslist.csv\"),skiprows=1,header=0,index_col=0)\n",
    "# dfgparams.head()\n",
    "gparamlist=[[Rr5r4,'Rr5r4'],[Rb5b4,'Rb5b4'],[Rb4r4,'Rb4r4'],[RZrr4,'RZrr4'],[NR,'NR']]\n",
    "dfgparams=pd.read_csv(os.path.join(ROOT_DIR,\"Inputs\\gparamslist.csv\"),skiprows=1,header=0,index_col=0)\n",
    "dfgparams.head()\n",
    "for x in list(dfgparams.columns):\n",
    "    print(x)\n",
    "# print (np.shape(gparamlist)[0])\n",
    "# k=1\n",
    "# for x in range(np.shape(gparamlist)[0]):\n",
    "#     gparamlist[x][0]=dfgparams.iloc[k-1][gparamlist[x][1]]\n",
    "#     print(gparamlist[x][1],gparamlist[x][0])\n",
    "# print(dfgparams.iloc[])\n",
    "\n",
    "# for x in gparamlist:\n",
    "#     x = dfgparams.iloc[i-1][y]"
   ]
  },
  {
   "cell_type": "code",
   "execution_count": 128,
   "metadata": {},
   "outputs": [
    {
     "ename": "NameError",
     "evalue": "name 'T_5' is not defined",
     "output_type": "error",
     "traceback": [
      "\u001b[1;31m---------------------------------------------------------------------------\u001b[0m",
      "\u001b[1;31mNameError\u001b[0m                                 Traceback (most recent call last)",
      "\u001b[1;32mx:\\TA-Turbine-Design-13118082\\sandbox.ipynb Cell 4\u001b[0m in \u001b[0;36m<cell line: 8>\u001b[1;34m()\u001b[0m\n\u001b[0;32m      <a href='vscode-notebook-cell:/x%3A/TA-Turbine-Design-13118082/sandbox.ipynb#ch0000003?line=4'>5</a>\u001b[0m \u001b[39mfrom\u001b[39;00m \u001b[39mifrturbinepackage\u001b[39;00m\u001b[39m.\u001b[39;00m\u001b[39mvolute\u001b[39;00m \u001b[39mimport\u001b[39;00m \u001b[39m*\u001b[39m\n\u001b[0;32m      <a href='vscode-notebook-cell:/x%3A/TA-Turbine-Design-13118082/sandbox.ipynb#ch0000003?line=6'>7</a>\u001b[0m whichcycle(\u001b[39m10\u001b[39m)\n\u001b[1;32m----> <a href='vscode-notebook-cell:/x%3A/TA-Turbine-Design-13118082/sandbox.ipynb#ch0000003?line=7'>8</a>\u001b[0m \u001b[39mprint\u001b[39m(T_5)\n",
      "\u001b[1;31mNameError\u001b[0m: name 'T_5' is not defined"
     ]
    }
   ],
   "source": [
    "from ifrturbinepackage.definitions import *\n",
    "from ifrturbinepackage.inputs import *\n",
    "from ifrturbinepackage.rotor import *\n",
    "from ifrturbinepackage.nozzle import *\n",
    "from ifrturbinepackage.volute import *\n",
    "\n",
    "whichcycle(10)\n",
    "print(T_5)"
   ]
  },
  {
   "cell_type": "code",
   "execution_count": 134,
   "metadata": {},
   "outputs": [
    {
     "name": "stdout",
     "output_type": "stream",
     "text": [
      "98\n",
      "98 97\n"
     ]
    }
   ],
   "source": [
    "dummydict={'dum':98,'dim':97}\n",
    "print(dummydict['dum'])\n",
    "\n",
    "globals().update(dummydict)\n",
    "print(dum,dim)"
   ]
  },
  {
   "cell_type": "code",
   "execution_count": 1,
   "metadata": {},
   "outputs": [
    {
     "name": "stdout",
     "output_type": "stream",
     "text": [
      "3 7 5\n",
      "1 3\n"
     ]
    },
    {
     "ename": "NameError",
     "evalue": "name 'Cm5' is not defined",
     "output_type": "error",
     "traceback": [
      "\u001b[1;31m---------------------------------------------------------------------------\u001b[0m",
      "\u001b[1;31mNameError\u001b[0m                                 Traceback (most recent call last)",
      "\u001b[1;32mx:\\TA-Turbine-Design-13118082\\sandbox.ipynb Cell 6\u001b[0m in \u001b[0;36m<cell line: 10>\u001b[1;34m()\u001b[0m\n\u001b[0;32m      <a href='vscode-notebook-cell:/x%3A/TA-Turbine-Design-13118082/sandbox.ipynb#ch0000005?line=7'>8</a>\u001b[0m     \u001b[39mlocals\u001b[39m()[translist[i]]\u001b[39m=\u001b[39minlist[i]\n\u001b[0;32m      <a href='vscode-notebook-cell:/x%3A/TA-Turbine-Design-13118082/sandbox.ipynb#ch0000005?line=8'>9</a>\u001b[0m \u001b[39mprint\u001b[39m(Zr,Z5,rh5)\n\u001b[1;32m---> <a href='vscode-notebook-cell:/x%3A/TA-Turbine-Design-13118082/sandbox.ipynb#ch0000005?line=9'>10</a>\u001b[0m dum\u001b[39m=\u001b[39mQuasiNorm(inlist)\n",
      "File \u001b[1;32mx:\\TA-Turbine-Design-13118082\\ifrturbinepackage\\rotor.py:846\u001b[0m, in \u001b[0;36mQuasiNorm\u001b[1;34m(inlist)\u001b[0m\n\u001b[0;32m    841\u001b[0m     mh\u001b[39m.\u001b[39mappend(mh[i]\u001b[39m+\u001b[39m\u001b[39m2\u001b[39m\u001b[39m*\u001b[39m(i)\u001b[39m/\u001b[39m\u001b[39m3\u001b[39m)                                 \u001b[39m#Perbaiki value mh \u001b[39;00m\n\u001b[0;32m    844\u001b[0m \u001b[39m# Zm=(Z-Zh)/2\u001b[39;00m\n\u001b[0;32m    845\u001b[0m \u001b[39m# rm=(r-rh)/2\u001b[39;00m\n\u001b[1;32m--> 846\u001b[0m Betha5  \u001b[39m=\u001b[39m np\u001b[39m.\u001b[39marccos(Cm5\u001b[39m/\u001b[39mW5)\n\u001b[0;32m    847\u001b[0m Betha5s \u001b[39m=\u001b[39m np\u001b[39m.\u001b[39marctan(np\u001b[39m.\u001b[39mtan(Betha5)\u001b[39m/\u001b[39mrs5)\n\u001b[0;32m    848\u001b[0m Betha5h \u001b[39m=\u001b[39m np\u001b[39m.\u001b[39marctan(np\u001b[39m.\u001b[39mtan(Betha5)\u001b[39m/\u001b[39mrh5)\n",
      "\u001b[1;31mNameError\u001b[0m: name 'Cm5' is not defined"
     ]
    }
   ],
   "source": [
    "from ifrturbinepackage.rotor import *\n",
    "inlist=[1,2,3,4,5,6,7]\n",
    "# global Zr\n",
    "# Zr=0.05\n",
    "# dum=QuasiNorm(dumlist)\n",
    "translist=['b4','r4','Zr','rs5','rh5','n','Z5']\n",
    "for i in range(len(translist)):\n",
    "    locals()[translist[i]]=inlist[i]\n",
    "print(Zr,Z5,rh5)\n",
    "dum=QuasiNorm(inlist)"
   ]
  },
  {
   "cell_type": "code",
   "execution_count": 4,
   "metadata": {},
   "outputs": [
    {
     "name": "stdout",
     "output_type": "stream",
     "text": [
      "8\n",
      "7\n"
     ]
    }
   ],
   "source": [
    "zxc='dumvee'\n",
    "locals()[zxc]=8\n",
    "print(dumvee)\n",
    "print(len(dumlist))"
   ]
  },
  {
   "cell_type": "code",
   "execution_count": 33,
   "metadata": {},
   "outputs": [],
   "source": [
    "import numpy as np\n",
    "import scipy as sp\n",
    "import sympy as smp\n"
   ]
  },
  {
   "cell_type": "code",
   "execution_count": 6,
   "metadata": {},
   "outputs": [],
   "source": [
    "r4,rs5,deltzr,b4,z,z5,n = smp.symbols('r4 rs5 deltzr b4 z z5 n', real = True,positive=True)\n",
    "# r = rs5 + (r4-rs5)*((z-z5)/(deltzr-b4))**n\n",
    "drperdz = (r4-rs5)/(deltzr-b4)**n * n * (z-z5)**(n-1)\n",
    "f = smp.sqrt(1+(drperdz)**2)\n",
    "smp.integrate(f,z).simplify"
   ]
  },
  {
   "cell_type": "code",
   "execution_count": 13,
   "metadata": {},
   "outputs": [
    {
     "data": {
      "text/latex": [
       "$\\displaystyle \\frac{\\left(2 n - 1\\right) \\left(z - z_{5}\\right) \\Gamma\\left(1 + \\frac{1}{2 \\left(n - 1\\right)}\\right) {{}_{2}F_{1}\\left(\\begin{matrix} - \\frac{1}{2}, \\frac{1}{2 \\left(n - 1\\right)} \\\\ \\frac{2 n - 1}{2 \\left(n - 1\\right)} \\end{matrix}\\middle| {A^{2} n^{2} \\left(z - z_{5}\\right)^{2 n - 2} e^{i \\pi}} \\right)}}{2 \\left(n - 1\\right) \\Gamma\\left(\\frac{n}{n - 1} + 1 - \\frac{1}{2 \\left(n - 1\\right)}\\right)}$"
      ],
      "text/plain": [
       "(2*n - 1)*(z - z5)*gamma(1 + 1/(2*(n - 1)))*hyper((-1/2, 1/(2*(n - 1))), ((2*n - 1)/(2*(n - 1)),), A**2*n**2*(z - z5)**(2*n - 2)*exp_polar(I*pi))/(2*(n - 1)*gamma(n/(n - 1) + 1 - 1/(2*(n - 1))))"
      ]
     },
     "execution_count": 13,
     "metadata": {},
     "output_type": "execute_result"
    }
   ],
   "source": [
    "A,n,z,z5 = smp.symbols('A n z z5',real=True,positive=True)\n",
    "f = smp.sqrt(1+(A*n*(z-z5)**(n-1))**2)\n",
    "smp.integrate(f,z).simplify()"
   ]
  },
  {
   "cell_type": "code",
   "execution_count": 36,
   "metadata": {},
   "outputs": [
    {
     "data": {
      "text/latex": [
       "$\\displaystyle \\begin{cases} \\frac{i \\left(- A^{2} \\sqrt{- A^{2} + \\left(- B + z\\right)^{2}} \\operatorname{acosh}{\\left(\\frac{- B + z}{A} \\right)} + A^{2} \\left(B - z\\right) - \\left(B - z\\right)^{3}\\right)}{2 \\sqrt{- A^{2} + \\left(- B + z\\right)^{2}}} & \\text{for}\\: \\frac{\\left(B - z\\right)^{2}}{A^{2}} > 1 \\\\- \\frac{A^{2} \\operatorname{asin}{\\left(\\frac{B - z}{A} \\right)}}{2} - \\frac{\\sqrt{A^{2} - \\left(B - z\\right)^{2}} \\left(B - z\\right)}{2} & \\text{otherwise} \\end{cases}$"
      ],
      "text/plain": [
       "Piecewise((I*(-A**2*sqrt(-A**2 + (-B + z)**2)*acosh((-B + z)/A) + A**2*(B - z) - (B - z)**3)/(2*sqrt(-A**2 + (-B + z)**2)), (B - z)**2/A**2 > 1), (-A**2*asin((B - z)/A)/2 - sqrt(A**2 - (B - z)**2)*(B - z)/2, True))"
      ]
     },
     "execution_count": 36,
     "metadata": {},
     "output_type": "execute_result"
    }
   ],
   "source": [
    "A,z,B = smp.symbols('A z B',real=True,positive=True)\n",
    "f=smp.sqrt(A**2-(z-B)**2)\n",
    "smp.integrate(f,z).simplify()"
   ]
  },
  {
   "cell_type": "code",
   "execution_count": null,
   "metadata": {},
   "outputs": [],
   "source": [
    "# def mfun(indict,z,n) => indict : b4,r4,Zr,rs5,rh5,Z5 \n",
    "# function that returns m for specific z at specic n\n",
    "# divnum=10\n",
    "# h   = (z-z0)/divnum\n",
    "hpreset = 0.5 *10**-3\n",
    "divnum  = int((z-z0)/hpreset)\n",
    "h       = (z-z0)/divnum\n",
    "\n",
    "odd = 0\n",
    "even = 0\n",
    "for i in range(0,divnum+1):\n",
    "    zi      = z0 + i*h\n",
    "    drperdz = (r4-rs5)/(Zr-b4)**n * n * (zi-z5)**(n-1)\n",
    "    dmperdz = np.sqrt(1 + drperdz**2)\n",
    "    if i == 0:\n",
    "        fx0 = dmperdz\n",
    "    if i%2 != 0 and i<=divnum-1:\n",
    "        odd += dmperdz\n",
    "    if i%2 == 0 and i<=divnum-2:\n",
    "        even += dmperdz\n",
    "    if i == divnum:\n",
    "        fxn = dmperdz\n",
    "\n",
    "m = (z-z0)*(fx0 + 4*odd + 2*even + fxn)/(3*divnum)    \n",
    "\n",
    "# return m"
   ]
  },
  {
   "cell_type": "code",
   "execution_count": null,
   "metadata": {},
   "outputs": [],
   "source": [
    "# def rfun(indict,z,n) => indict b4,r4,Zr,rs5,rh5,Z5\n",
    "xi  = (z-z5)/(Zr-b4)\n",
    "r   = rs5 + (r4-rs5)*xi**n\n",
    "\n",
    "\n",
    "# def phi\n",
    "drperdz = (r4-rs5)/(Zr-b4)**n * n * (z-z5)**(n-1)\n",
    "dmperdz = np.sqrt(1 + drperdz**2)\n",
    "phi     = drperdz/dmperdz\n"
   ]
  },
  {
   "cell_type": "code",
   "execution_count": null,
   "metadata": {},
   "outputs": [],
   "source": [
    "for i in range(-5,10+1):\n",
    "    if i%2==0:\n",
    "        print(f\"{i} is even\")\n",
    "    if i%2!=0:\n",
    "        print(f\"{i} is odd\")\n",
    "    if i%2==0 and i%3==0:\n",
    "        print(f\"{i} is even and 3 is factor of it\")"
   ]
  },
  {
   "cell_type": "code",
   "execution_count": 38,
   "metadata": {},
   "outputs": [],
   "source": [
    "x=5\n",
    "if x<=7 and x%2!=0 and x>=6:\n",
    "    print(x)"
   ]
  },
  {
   "cell_type": "code",
   "execution_count": 64,
   "metadata": {},
   "outputs": [],
   "source": [
    "from sympy import symbols,Eq,solve"
   ]
  },
  {
   "cell_type": "code",
   "execution_count": 55,
   "metadata": {},
   "outputs": [
    {
     "name": "stdout",
     "output_type": "stream",
     "text": [
      "[(1.00000000000000, 3.00000000000000), (13.5596216727053, 7.18654055756842)]\n"
     ]
    }
   ],
   "source": [
    "x,y= symbols('x y',real=True,positive=True)\n",
    "eq1= Eq(1-x+10*((y-3)/(4))**5,0)\n",
    "eq2= Eq(1/3*(x-1)+3-y,0)\n",
    "sol= solve((eq1,eq2),(x,y))\n",
    "print(sol)\n"
   ]
  },
  {
   "cell_type": "code",
   "execution_count": 82,
   "metadata": {},
   "outputs": [
    {
     "name": "stdout",
     "output_type": "stream",
     "text": [
      "[(10, 3)]\n"
     ]
    }
   ],
   "source": [
    "nesteddumlist = [(1,4),(8,9),(10,3),(1,-1),(-3,-4)]\n",
    "filtered      = [take for take in nesteddumlist if take[0]>9 and take[1]<4]\n",
    "print(filtered)\n"
   ]
  },
  {
   "cell_type": "code",
   "execution_count": 6,
   "metadata": {},
   "outputs": [
    {
     "name": "stdout",
     "output_type": "stream",
     "text": [
      "65536\n"
     ]
    }
   ],
   "source": [
    "def dumfun(alpha):\n",
    "    beta    = alpha**2\n",
    "    gamma   = beta**alpha\n",
    "    outputdict=dict()\n",
    "    for i in ('beta','gamma'):\n",
    "        outputdict[i]   = locals()[i]\n",
    "    return outputdict\n",
    "\n",
    "imp=dumfun(4)\n",
    "locals().update(imp)\n",
    "print(gamma)\n"
   ]
  },
  {
   "cell_type": "code",
   "execution_count": 48,
   "metadata": {},
   "outputs": [
    {
     "name": "stdout",
     "output_type": "stream",
     "text": [
      "[['dum'], ['dim', 'dam'], [], [], [], [], [], [], [], []]\n"
     ]
    }
   ],
   "source": [
    "''' \n",
    "Just docstring\n",
    "mind no time\n",
    "'''\n",
    "# dumlist = [[],[]]\n",
    "\n",
    "alist,blist,clist,dlist,dumlist = ([[]for i in range(0,9+1)] for i in range(5))\n",
    "# dumlist = [[]for i in range(0,9+1)]\n",
    "dumlist[0].append('dum')\n",
    "dumlist[1].append('dim')\n",
    "dumlist[1].append('dam')\n",
    "print(dumlist)"
   ]
  },
  {
   "cell_type": "code",
   "execution_count": 58,
   "metadata": {},
   "outputs": [
    {
     "name": "stdout",
     "output_type": "stream",
     "text": [
      "{'A': 3, 'B': 5} {'A': 420, 'B': 5, 'yoho': 89}\n",
      "[1, [2, 9], 3, 4, 5] [1, [99, 100], 3, 4, 5]\n"
     ]
    }
   ],
   "source": [
    "\n",
    "dumdict = {'A':3,'B':5}\n",
    "dimdict = dumdict.copy()\n",
    "dimdict['yoho']=89\n",
    "dimdict['A']=420\n",
    "print(dumdict,dimdict)\n",
    "alist=[1,[2,9],3,4,5]\n",
    "blist=alist.copy()\n",
    "blist[1]=[99,100]\n",
    "print(alist,blist)"
   ]
  },
  {
   "cell_type": "code",
   "execution_count": 60,
   "metadata": {},
   "outputs": [
    {
     "name": "stdout",
     "output_type": "stream",
     "text": [
      "The original elements before shallow copying\n",
      "1 2 [3, 5] 4 \n",
      "The original elements after shallow copying\n",
      "1 2 [7, 5] 4 "
     ]
    }
   ],
   "source": [
    "import copy\n",
    "  \n",
    "# initializing list 1\n",
    "li1 = [1, 2, [3,5], 4]\n",
    "  \n",
    "# using copy to shallow copy \n",
    "li2 = copy.copy(li1)\n",
    "  \n",
    "# original elements of list\n",
    "print (\"The original elements before shallow copying\")\n",
    "for i in range(0,len(li1)):\n",
    "    print (li1[i],end=\" \")\n",
    "  \n",
    "print(\"\\r\")\n",
    "\n",
    "# adding and element to new list\n",
    "li2[2][0] = 7\n",
    "  \n",
    "# checking if change is reflected\n",
    "print (\"The original elements after shallow copying\")\n",
    "for i in range(0,len( li1)):\n",
    "    print (li1[i],end=\" \")"
   ]
  },
  {
   "cell_type": "code",
   "execution_count": 8,
   "metadata": {},
   "outputs": [],
   "source": [
    "import pandas as pd\n",
    "alist = ['avalon','vega','horakh']\n",
    "blist = [99,100,101]\n",
    "datadum = {\n",
    "    'name': alist,\n",
    "    'value': blist\n",
    "}\n",
    "dfdum = pd.DataFrame(datadum)\n",
    "selhead = ['name']\n",
    "dfdum.to_csv(\"testo.txt\",columns=selhead,index=None,header=None,sep=' ',mode='w')"
   ]
  },
  {
   "cell_type": "code",
   "execution_count": 19,
   "metadata": {},
   "outputs": [
    {
     "name": "stdout",
     "output_type": "stream",
     "text": [
      "[(-1/2 + sqrt(21)/2, 11/2 - sqrt(21)/2)]\n"
     ]
    }
   ],
   "source": [
    "x,y=symbols('x y',real=True,positive=True)\n",
    "eq1 = Eq(y-x**2,0)\n",
    "eq2 = Eq(x+y-5,0)\n",
    "sol = solve((eq1,eq2),(x,y))\n",
    "print(sol)"
   ]
  },
  {
   "cell_type": "code",
   "execution_count": 31,
   "metadata": {},
   "outputs": [
    {
     "data": {
      "text/plain": [
       "3"
      ]
     },
     "execution_count": 31,
     "metadata": {},
     "output_type": "execute_result"
    }
   ],
   "source": [
    "def dumfun():\n",
    "    dumfun.vara     = 3\n",
    "    return dumfun.vara\n",
    "dumfun()\n",
    "dumfun.vara"
   ]
  },
  {
   "cell_type": "code",
   "execution_count": 17,
   "metadata": {},
   "outputs": [
    {
     "name": "stdout",
     "output_type": "stream",
     "text": [
      "\u001b[2KCounting down...(0s))\r"
     ]
    }
   ],
   "source": [
    "from time import sleep\n",
    "seconds = 10\n",
    "for i in range (seconds+1):\n",
    "    print(f\"\\x1b[2KCounting down...({seconds-i}s)\",end=\"\\r\")\n",
    "    sleep(1)\n"
   ]
  },
  {
   "cell_type": "code",
   "execution_count": 4,
   "metadata": {},
   "outputs": [
    {
     "data": {
      "text/plain": [
       "0.6213727366498067"
      ]
     },
     "execution_count": 4,
     "metadata": {},
     "output_type": "execute_result"
    }
   ],
   "source": [
    "def lengthunitconverter(unitfrom:str,unitto:str,value):\n",
    "    \n",
    "    ''' conversion ratios of units to m '''\n",
    "    conratdict={\n",
    "        'm'         : 1,\n",
    "        'km'        : 1000,\n",
    "        'mi'        : 1609.34,\n",
    "        'Angstrom'  : 1e-10,\n",
    "        'inch'      : 0.0254,\n",
    "        'nm'        : 1e-9,\n",
    "        'micrometer': 1e-6\n",
    "    }\n",
    "\n",
    "    return conratdict[unitfrom]/conratdict[unitto] * value\n",
    "\n",
    "lengthunitconverter('km','mi',1)"
   ]
  },
  {
   "cell_type": "code",
   "execution_count": 62,
   "metadata": {},
   "outputs": [
    {
     "data": {
      "image/png": "[encoded data removed]",
      "text/plain": [
       "<Figure size 432x288 with 1 Axes>"
      ]
     },
     "metadata": {
      "needs_background": "light"
     },
     "output_type": "display_data"
    }
   ],
   "source": [
    "import matplotlib\n",
    "import matplotlib.pyplot as plt    \n",
    "import random\n",
    "\n",
    "\n",
    "s = (600,400)\n",
    "N = 1000\n",
    "\n",
    "segs = []\n",
    "colors = []\n",
    "my_cmap = plt.get_cmap('jet')\n",
    "for i in range(N):\n",
    "    x1 = random.triangular() * s[0]\n",
    "    y1 = random.triangular() * s[1]\n",
    "    x2 = random.triangular() * s[0]\n",
    "    y2 = random.triangular() * s[1]\n",
    "    c  = random.triangular()\n",
    "    colors.append(my_cmap(c))\n",
    "    segs.append(((x1, y1), (x2, y2)))\n",
    "\n",
    "ln_coll = matplotlib.collections.LineCollection(segs, colors='black')\n",
    "\n",
    "ax = plt.gca()\n",
    "ax.add_collection(ln_coll)\n",
    "ax.set_xlim(0, 600)    \n",
    "ax.set_ylim(0, 400)\n",
    "plt.draw()"
   ]
  },
  {
   "cell_type": "code",
   "execution_count": 2,
   "metadata": {},
   "outputs": [
    {
     "data": {
      "text/plain": [
       "-29.999999170876706"
      ]
     },
     "execution_count": 2,
     "metadata": {},
     "output_type": "execute_result"
    }
   ],
   "source": [
    "np.degrees(-0.5235987611273675)"
   ]
  },
  {
   "cell_type": "code",
   "execution_count": 7,
   "metadata": {},
   "outputs": [
    {
     "data": {
      "text/plain": [
       "{'success': True,\n",
       " 'Effts': -87.37352341754485,\n",
       " 'gparams': array([ 0.3337893 ,  2.03538925,  0.18059377,  0.75      , 10.00000708])}"
      ]
     },
     "execution_count": 7,
     "metadata": {},
     "output_type": "execute_result"
    }
   ],
   "source": [
    "GetGParams(coeffs=[1.2,16],mflows=2)"
   ]
  },
  {
   "cell_type": "code",
   "execution_count": 2,
   "metadata": {},
   "outputs": [
    {
     "data": {
      "text/plain": [
       "{'success': False,\n",
       " 'Effts': -75.46907338246257,\n",
       " 'coeffs': array([ 1.        , 13.41692614])}"
      ]
     },
     "execution_count": 2,
     "metadata": {},
     "output_type": "execute_result"
    }
   ],
   "source": [
    "GetCoeffs(gparams=[ 0.26339919,  1.19392278,  0.18996068,  0.75,       10.        ],mflows=2)"
   ]
  },
  {
   "cell_type": "code",
   "execution_count": 2,
   "metadata": {},
   "outputs": [
    {
     "data": {
      "text/plain": [
       "{'geometry': {'r4': 0.05580635074536877,\n",
       "  'r5': 0.01469934758318603,\n",
       "  'rs5': 0.021027742642637272,\n",
       "  'rh5': 0.00837095252373479,\n",
       "  'b4': 0.010601012335908759,\n",
       "  'b5': 0.012656790118902481,\n",
       "  'Zr': 0.04185476305902658,\n",
       "  'NR': 10.0,\n",
       "  'tb4': 0.002232254029814751,\n",
       "  'tb5': 0.0011161270149073754},\n",
       " 'thermo': {'T_1': 373.15,\n",
       "  'T_5': 320.5349633929803,\n",
       "  'P_1': 1250000.0,\n",
       "  'P_5': 212000.0,\n",
       "  'p04s': 1250000.0,\n",
       "  'p04': 1106868.5532135018,\n",
       "  'p4s': 298937.2488995157,\n",
       "  'p4': 270068.86576097907,\n",
       "  'p5ss': 165532.1683673223,\n",
       "  'p5': 512196.8325715784,\n",
       "  'p05ss': 212000.0,\n",
       "  'p05': 212000.0,\n",
       "  'T05ss': 320.5349633929803,\n",
       "  'T05': 327.0975990785429,\n",
       "  'T5ss': 314.46397016252433,\n",
       "  'T5': 343.9582796758057,\n",
       "  'rho4s': 15.867694372950627,\n",
       "  'rho5ss': 8.93034899179223,\n",
       "  'mflow': 1,\n",
       "  'h4s': 449772.0925604543,\n",
       "  'h04s': 476321.0623854738},\n",
       " 'velocity': {'C4': 230.4299018140639,\n",
       "  'Ct4': 229.78453906664927,\n",
       "  'Cm4': 17.233840429998693,\n",
       "  'W4': 87.87568864670762,\n",
       "  'U4': 143.6153369166558,\n",
       "  'Alpha4': 1.4959364790841299,\n",
       "  'Beta4': -1.373400766945016,\n",
       "  'C5': 95.98257530081372,\n",
       "  'Ct5': 0,\n",
       "  'Cm5': 95.98257530081372,\n",
       "  'W5': 103.16794419179058,\n",
       "  'U5': 37.828163415424235,\n",
       "  'Alpha5': 0,\n",
       "  'Beta5': 0.3754227454469165,\n",
       "  'Beta4opt': 1.4219063791853996,\n",
       "  'Beta4opt2': -1.2758680472690285,\n",
       "  'Cm5didconverge1': True,\n",
       "  'Cm5didconverge2': True,\n",
       "  'k1Cm5': 5,\n",
       "  'k2Cm5': 0,\n",
       "  'Ma4s': 1.6662559736021652},\n",
       " 'efficiency': {'Reaction': -0.30778208723347256,\n",
       "  'Effts': 71.04478869243361,\n",
       "  'Efftt': 81.07023307401062,\n",
       "  'rpm': 24574.720047600225},\n",
       " 'losses': {'LossInc0': 9.077177749592312,\n",
       "  'LossInc': 14977.073717302766,\n",
       "  'LossPass': 4937.752573628491,\n",
       "  'LossTip': 498.22672242604955,\n",
       "  'LossWind': 0.006858593843649559,\n",
       "  'LossTE': 801.8703023160703,\n",
       "  'Effreductbladeloading': 0.0009546021924719803,\n",
       "  'LossExit': 4606.327380688188},\n",
       " 'proceed': {'Beta4': -1.373400766945016,\n",
       "  'Beta5': 0.3754227454469165,\n",
       "  'b4': 0.010601012335908759,\n",
       "  'r4': 0.05580635074536877,\n",
       "  'Zr': 0.04185476305902658,\n",
       "  'rs5': 0.021027742642637272,\n",
       "  'rh5': 0.00837095252373479,\n",
       "  'r5': 0.01469934758318603,\n",
       "  'b5': 0.012656790118902481,\n",
       "  'tb4': 0.002232254029814751,\n",
       "  'tb5': 0.0011161270149073754,\n",
       "  'Cm4': 17.233840429998693,\n",
       "  'U4': 143.6153369166558,\n",
       "  'Ct4': 229.78453906664927},\n",
       " 'tonozzle': (10.0,\n",
       "  0.05580635074536877,\n",
       "  1.4959364790841299,\n",
       "  0.010601012335908759,\n",
       "  229.78453906664927,\n",
       "  12.901046191215954,\n",
       "  1),\n",
       " 'input': {'mflows': 1,\n",
       "  'coeffs': [1.2, 16],\n",
       "  'gparams': [0.26339919, 1.19392278, 0.18996068, 0.75, 10.0]}}"
      ]
     },
     "execution_count": 2,
     "metadata": {},
     "output_type": "execute_result"
    }
   ],
   "source": [
    "ComputeR4all(16,1,[1.2,16],[ 0.26339919,  1.19392278,  0.18996068,  0.75,       10.        ])"
   ]
  },
  {
   "cell_type": "code",
   "execution_count": 2,
   "metadata": {},
   "outputs": [
    {
     "data": {
      "text/plain": [
       "-76.54143185152668"
      ]
     },
     "execution_count": 2,
     "metadata": {},
     "output_type": "execute_result"
    }
   ],
   "source": [
    "np.degrees(-1.3359)"
   ]
  },
  {
   "cell_type": "code",
   "execution_count": 1,
   "metadata": {},
   "outputs": [
    {
     "name": "stdout",
     "output_type": "stream",
     "text": [
      "Iteration 0 : True Effts = 64.39181458341403 %\n",
      "Iteration 1 : Effts = 83.80212564091724 % \n",
      "mflow       : True 1.999994473977962 \n",
      "coeffssol   : True [ 1.23747946 13.39994685]\n",
      "gparams     : True [ 0.28652058  2.17496106  0.12532096  0.7500008  10.000035  ] \n",
      "Iteration 2 : Effts = 83.80496958821908 % \n",
      "mflow       : True 1.999994473977962 \n",
      "coeffssol   : True [ 1.23748199 13.39995383]\n",
      "gparams     : True [ 0.28698235  2.18169378  0.12532052  0.75000028 10.00001312] \n",
      "Iteration 3 : Effts = 83.81179725992455 % \n",
      "mflow       : True 1.9999944217065149 \n",
      "coeffssol   : True [ 1.23748715 13.39996799]\n",
      "gparams     : True [ 0.28797814  2.20198801  0.1253205   0.75000037 10.00001489] \n",
      "Optimized result for cycle 10 :\n",
      "geometry\n",
      "{'r4': 0.05000000444838358, 'r5': 0.014398908182378125, 'rs5': 0.02129776497467392, 'rh5': 0.007500051390082332, 'b4': 0.00626602575990868, 'b5': 0.01379771358459159, 'Zr': 0.03750002195440622, 'NR': 10.000014888426461, 'tb4': 0.002000000177935343, 'tb5': 0.0010000000889676716}\n",
      "thermo\n",
      "{'T_1': 353.0, 'T_5': 318.8811419571459, 'P_1': 3714700.0, 'P_5': 2293400.0, 'p04s': 3714700.0, 'p04': 3600026.622348043, 'p4s': 2690724.2204179345, 'p4': 2609732.3315157196, 'p5ss': 2271742.79954273, 'p5': 2441157.3438102906, 'p05ss': 2293400.0, 'p05': 2293400.0, 'T05ss': 318.8811419571459, 'T05': 320.61309691796885, 'T5ss': 318.2435968343902, 'T5': 323.11003988310875, 'rho4s': 70.15935583155023, 'rho5ss': 60.59161653215793, 'mflow': 1.9999944217065149, 'h4s': 535232.5540555766, 'h04s': 547865.6018214751}\n",
      "velocity\n",
      "{'C4': 158.9531236931099, 'Ct4': 158.27961093785288, 'Cm4': 14.617123286030573, 'W4': 42.73760938152455, 'U4': 118.11939477199095, 'Alpha4': 1.4787075202304005, 'Beta4': -1.2217304763968997, 'C5': 26.68199238482577, 'Ct5': 0, 'Cm5': 26.68199238482577, 'W5': 43.23197423919411, 'U5': 34.01580337129263, 'Alpha5': 0, 'Beta5': 0.905640295498722, 'Beta4opt': 1.3455203983999757, 'Beta4opt2': -1.212845751147099, 'Cm5didconverge1': True, 'Cm5didconverge2': True, 'k1Cm5': 2, 'k2Cm5': 0, 'Ma4s': 0.7560177261993425}\n",
      "efficiency\n",
      "{'Reaction': 0.1983872261212747, 'Effts': 83.81179725992455, 'Efftt': 85.50566194634125, 'rpm': 22559.140656548192}\n",
      "losses\n",
      "{'LossInc0': 0.07208867314394096, 'LossInc': 0.008639879321328186, 'LossPass': 264.1981978486297, 'LossTip': 629.4000152316049, 'LossWind': 0.03759198514165915, 'LossTE': 1816.1378729621824, 'Effreductbladeloading': 0.0009627924392944809, 'LossExit': 355.96435881195015}\n",
      "proceed\n",
      "{'Beta4': -1.2217304763968997, 'Beta5': 0.905640295498722, 'b4': 0.00626602575990868, 'r4': 0.05000000444838358, 'Zr': 0.03750002195440622, 'rs5': 0.02129776497467392, 'rh5': 0.007500051390082332, 'r5': 0.014398908182378125, 'b5': 0.01379771358459159, 'tb4': 0.002000000177935343, 'tb5': 0.0010000000889676716, 'Cm4': 14.617123286030573, 'U4': 118.11939477199095, 'Ct4': 158.27961093785288}\n",
      "tonozzle\n",
      "(10.000014888426461, 0.05000000444838358, 1.4787075202304005, 0.00626602575990868, 158.27961093785288, 63.509989498476635, 1.9999944217065149)\n",
      "input\n",
      "{'mflows': 1.9999944217065149, 'coeffs': array([ 1.23748715, 13.39996799]), 'gparams': array([ 0.28797814,  2.20198801,  0.1253205 ,  0.75000037, 10.00001489])}\n",
      "\u001b[2KCounting down...(1s)\r"
     ]
    }
   ],
   "source": [
    "from ifrturbinepackage.definitions  import *\n",
    "from ifrturbinepackage.inputs       import *\n",
    "from ifrturbinepackage.rotor        import *\n",
    "from ROptimize                      import *\n",
    "\n",
    "import matplotlib.pyplot as plt\n",
    "\n",
    "cyclenum = int(input(\"which cycle #?: \"))\n",
    "\n",
    "optresR = optimizeR(cyclenum)\n",
    "# askproceed = str(input(\"proceed? [Y/N]\"))\n",
    "# if askproceed.upper() == 'Y' or askproceed.upper() == 'YES':\n",
    "R2DContour  = Gen2DContour(indict=optresR,z5=0,dataamount=70)\n",
    "\n",
    "# plot1   = plt.plot(R2DContour['zh_data'],R2DContour['rh_data'])\n",
    "# plot1   = plt.plot(R2DContour['zs_data'][4],R2DContour['rs_data'][4])\n",
    "# plt.show()\n"
   ]
  },
  {
   "cell_type": "code",
   "execution_count": 2,
   "metadata": {},
   "outputs": [
    {
     "data": {
      "text/plain": [
       "{'Beta4': -1.359541347560515,\n",
       " 'Beta5': 0.9454392624455014,\n",
       " 'b4': 0.0057975066144574,\n",
       " 'r4': 0.050000031422630264,\n",
       " 'Zr': 0.03750002356708402,\n",
       " 'rs5': 0.023141325769071314,\n",
       " 'rh5': 0.003999999981810949,\n",
       " 'r5': 0.013570662875441132,\n",
       " 'b5': 0.019141325787260365,\n",
       " 'tb4': 0.0020000012569052106,\n",
       " 'tb5': 0.0010000006284526053}"
      ]
     },
     "execution_count": 2,
     "metadata": {},
     "output_type": "execute_result"
    }
   ],
   "source": [
    "optresR"
   ]
  },
  {
   "cell_type": "code",
   "execution_count": null,
   "metadata": {},
   "outputs": [],
   "source": [
    "import matplotlib.pyplot as plt\n",
    "\n",
    "plotkeun = []\n",
    "for i in range(0,10):\n",
    "    plotkeun.append(0)\n",
    "for i in range(2,9+1):\n",
    "    plotkeun[i] = plt.figure(dpi=120)\n",
    "    plotkeun[i] = plt.plot(R2DContour['zh_data'],R2DContour['rh_data'],color='b')\n",
    "    plotkeun[i] = plt.plot(R2DContour['zs_data'][i],R2DContour['rs_data'][i],color='r')\n",
    "    plotkeun[i] = plt.gca().set_aspect('equal', adjustable='box')\n",
    "    plotkeun[i] = plt.xlabel(\"z (mm)\")\n",
    "    plotkeun[i] = plt.ylabel(\"r (mm)\")\n",
    "    plotkeun[i] = plt.title(\"Rotor 2D Contour\")\n",
    "# plot1 = plt.figure(dpi=120)\n",
    "# plot1 = plt.plot(R2DContour['zh_data'],R2DContour['rh_data'],color='b')\n",
    "# plot1 = plt.plot(R2DContour['zs_data'][4],R2DContour['rs_data'][4],color='r')\n",
    "# plot1 = plt.gca().set_aspect('equal', adjustable='box')\n",
    "# plot1 = plt.xlabel(\"z (mm)\")\n",
    "# plot1 = plt.ylabel(\"r (mm)\")\n",
    "# plot2 = plt.figure(dpi=120)\n",
    "# plot2 = plt.plot(R2DContour['zh_data'],R2DContour['rh_data'],color='b')\n",
    "# plot2 = plt.plot(R2DContour['zs_data'][4],R2DContour['rs_data'][4],color='r')\n",
    "# plot2 = plt.gca().set_aspect('equal', adjustable='box')\n",
    "# plot2 = plt.xlabel(\"z (mm)\")\n",
    "# plot2 = plt.ylabel(\"r (mm)\")\n",
    "\n",
    "# plt.figure(dpi=80)\n",
    "plt.show(plotkeun[4])"
   ]
  },
  {
   "cell_type": "code",
   "execution_count": 4,
   "metadata": {},
   "outputs": [
    {
     "data": {
      "image/png": "[encoded data removed]",
      "text/plain": [
       "<Figure size 720x480 with 1 Axes>"
      ]
     },
     "metadata": {
      "needs_background": "light"
     },
     "output_type": "display_data"
    }
   ],
   "source": [
    "plot1 = plt.figure(dpi=120)\n",
    "plot1 = plt.plot(R2DContour['zh_data'],R2DContour['rh_data'],color='b')\n",
    "plot1 = plt.plot(R2DContour['zs_data'][3],R2DContour['rs_data'][3],color='r')\n",
    "plot1 = plt.gca().set_aspect('equal', adjustable='box')\n",
    "plot1 = plt.xlabel(\"z (mm)\")\n",
    "plot1 = plt.ylabel(\"r (mm)\")\n",
    "# plt.show(plot1)"
   ]
  },
  {
   "cell_type": "code",
   "execution_count": null,
   "metadata": {},
   "outputs": [],
   "source": [
    "import matplotlib.pyplot as plt\n",
    "\n",
    "figplot,axn = plt.subplots(2,2,dpi=100)\n",
    "\n",
    "plt.add_\n",
    "axn[0,0].plot(R2DContour['zh_data'],R2DContour['rh_data'],color='b')\n",
    "axn[0,0].plot(R2DContour['zs_data'][2],R2DContour['rs_data'][2],color='r')\n",
    "\n",
    "axn[0,1].plot(R2DContour['zh_data'],R2DContour['rh_data'],color='b')\n",
    "axn[0,1].plot(R2DContour['zs_data'][4],R2DContour['rs_data'][4],color='r')\n",
    "\n",
    "axn[1,0].plot(R2DContour['zh_data'],R2DContour['rh_data'],color='b')\n",
    "axn[1,0].plot(R2DContour['zs_data'][6],R2DContour['rs_data'][6],color='r')\n",
    "\n",
    "axn[1,1].plot(R2DContour['zh_data'],R2DContour['rh_data'],color='b')\n",
    "axn[1,1].plot(R2DContour['zs_data'][7],R2DContour['rs_data'][7],color='r')\n",
    "\n",
    "plt.show()"
   ]
  },
  {
   "cell_type": "code",
   "execution_count": 5,
   "metadata": {},
   "outputs": [
    {
     "data": {
      "image/png": "[encoded data removed]",
      "text/plain": [
       "<Figure size 2400x1600 with 8 Axes>"
      ]
     },
     "metadata": {
      "needs_background": "light"
     },
     "output_type": "display_data"
    }
   ],
   "source": [
    "import matplotlib.pyplot as plt\n",
    "\n",
    "fig = plt.figure(dpi=400)\n",
    "\n",
    "plot2 = fig.add_subplot(2,4,1, adjustable='box', aspect='equal')\n",
    "plot3 = fig.add_subplot(2,4,2, adjustable='box', aspect='equal')\n",
    "plot4 = fig.add_subplot(2,4,3, adjustable='box', aspect='equal')\n",
    "plot5 = fig.add_subplot(2,4,4, adjustable='box', aspect='equal')\n",
    "plot6 = fig.add_subplot(2,4,5, adjustable='box', aspect='equal')\n",
    "plot7 = fig.add_subplot(2,4,6, adjustable='box', aspect='equal')\n",
    "plot8 = fig.add_subplot(2,4,7, adjustable='box', aspect='equal')\n",
    "plot9 = fig.add_subplot(2,4,8, adjustable='box', aspect='equal')\n",
    "\n",
    "plot2.plot(R2DContour['zh_data'],R2DContour['rh_data'],color='b')\n",
    "plot2.plot(R2DContour['zs_data'][2],R2DContour['rs_data'][2],color='r')\n",
    "plot3.plot(R2DContour['zh_data'],R2DContour['rh_data'],color='b')\n",
    "plot3.plot(R2DContour['zs_data'][3],R2DContour['rs_data'][3],color='r')\n",
    "plot4.plot(R2DContour['zh_data'],R2DContour['rh_data'],color='b')\n",
    "plot4.plot(R2DContour['zs_data'][4],R2DContour['rs_data'][4],color='r')\n",
    "plot5.plot(R2DContour['zh_data'],R2DContour['rh_data'],color='b')\n",
    "plot5.plot(R2DContour['zs_data'][5],R2DContour['rs_data'][5],color='r')\n",
    "plot6.plot(R2DContour['zh_data'],R2DContour['rh_data'],color='b')\n",
    "plot7.plot(R2DContour['zs_data'][6],R2DContour['rs_data'][6],color='r')\n",
    "plot7.plot(R2DContour['zh_data'],R2DContour['rh_data'],color='b')\n",
    "plot7.plot(R2DContour['zs_data'][7],R2DContour['rs_data'][7],color='r')\n",
    "plot8.plot(R2DContour['zh_data'],R2DContour['rh_data'],color='b')\n",
    "plot8.plot(R2DContour['zs_data'][8],R2DContour['rs_data'][8],color='r')\n",
    "plot9.plot(R2DContour['zh_data'],R2DContour['rh_data'],color='b')\n",
    "plot9.plot(R2DContour['zs_data'][9],R2DContour['rs_data'][9],color='r')\n",
    "\n",
    "fig.subplots_adjust(hspace=0.6)\n",
    "plt.show()\n"
   ]
  },
  {
   "cell_type": "code",
   "execution_count": null,
   "metadata": {},
   "outputs": [],
   "source": [
    "from scipy.interpolate import interp1d"
   ]
  },
  {
   "cell_type": "code",
   "execution_count": 51,
   "metadata": {},
   "outputs": [
    {
     "data": {
      "text/plain": [
       "array(33.53295827)"
      ]
     },
     "execution_count": 51,
     "metadata": {},
     "output_type": "execute_result"
    }
   ],
   "source": [
    "tesinterp=interp1d(R2DContour['zs_data'][4],R2DContour['rs_data'][4],'linear')\n",
    "\n",
    "tesinterp(25)\n",
    "# R2DContour['rs_data'][5]"
   ]
  },
  {
   "cell_type": "code",
   "execution_count": 2,
   "metadata": {},
   "outputs": [],
   "source": [
    "from ifrturbinepackage.definitions  import *\n",
    "from ifrturbinepackage.inputs       import *\n",
    "from ifrturbinepackage.rotor        import *\n",
    "from ROptimize                      import *"
   ]
  },
  {
   "cell_type": "code",
   "execution_count": 3,
   "metadata": {},
   "outputs": [
    {
     "data": {
      "text/plain": [
       "{'geometry': {'r4': 0.05780775700159639,\n",
       "  'r5': 0.014799238427145998,\n",
       "  'rs5': 0.024973861780225544,\n",
       "  'rh5': 0.0046246150740664495,\n",
       "  'b4': 0.006702807690102392,\n",
       "  'b5': 0.020349246706159094,\n",
       "  'Zr': 0.04335581775119729,\n",
       "  'NR': 11.0,\n",
       "  'tb4': 0.0023123102800638555,\n",
       "  'tb5': 0.0011561551400319277},\n",
       " 'thermo': {'T_1': 353.0,\n",
       "  'T_5': 318.8811419571459,\n",
       "  'P_1': 3714700.0,\n",
       "  'P_5': 2293400.0,\n",
       "  'p04s': 3714700.0,\n",
       "  'p04': 3589080.49824752,\n",
       "  'p4s': 2584694.14219078,\n",
       "  'p4': 2499723.8590645376,\n",
       "  'p5ss': 2279208.0807944876,\n",
       "  'p5': 2902589.8619850064,\n",
       "  'p05ss': 2293400.0,\n",
       "  'p05': 2293400.0,\n",
       "  'T05ss': 318.8811419571459,\n",
       "  'T05': 320.6971338169347,\n",
       "  'T5ss': 318.4638909604171,\n",
       "  'T5': 335.1351808458841,\n",
       "  'rho4s': 67.7552698251539,\n",
       "  'rho5ss': 60.76375530969978,\n",
       "  'mflow': 1.999994473977962,\n",
       "  'h4s': 533694.7998203858,\n",
       "  'h04s': 547865.6018214751},\n",
       " 'velocity': {'C4': 168.34964806075095,\n",
       "  'Ct4': 167.56773991864574,\n",
       "  'Cm4': 16.206681977993124,\n",
       "  'W4': 58.293768187006094,\n",
       "  'U4': 111.57214304974366,\n",
       "  'Alpha4': 1.474379020430855,\n",
       "  'Beta4': -1.289066803796433,\n",
       "  'C5': 21.58390824646002,\n",
       "  'Ct5': 0,\n",
       "  'Cm5': 21.58390824646002,\n",
       "  'W5': 35.801251578329044,\n",
       "  'U5': 28.563342230614456,\n",
       "  'Alpha5': 0,\n",
       "  'Beta5': 0.9236885971982587,\n",
       "  'Beta4opt': 1.3614501214620884,\n",
       "  'Beta4opt2': -1.1557864131050535,\n",
       "  'Cm5didconverge1': True,\n",
       "  'Cm5didconverge2': True,\n",
       "  'k1Cm5': 2,\n",
       "  'k2Cm5': 0,\n",
       "  'Ma4s': 0.8025566647363434},\n",
       " 'efficiency': {'Reaction': -0.23850871102853607,\n",
       "  'Effts': 83.64857015133583,\n",
       "  'Efftt': 84.81130556372524,\n",
       "  'rpm': 18430.66640059989},\n",
       " 'losses': {'LossInc0': 8.886538528425266,\n",
       "  'LossInc': 6386.3801150893905,\n",
       "  'LossPass': 307.24355413274685,\n",
       "  'LossTip': 519.3425143399212,\n",
       "  'LossWind': 0.05690128261256173,\n",
       "  'LossTE': 2004.1323767555773,\n",
       "  'Effreductbladeloading': 0.0011907242221843627,\n",
       "  'LossExit': 232.93254759580242},\n",
       " 'proceed': {'Beta4': -1.289066803796433,\n",
       "  'Beta5': 0.9236885971982587,\n",
       "  'b4': 0.006702807690102392,\n",
       "  'r4': 0.05780775700159639,\n",
       "  'Zr': 0.04335581775119729,\n",
       "  'rs5': 0.024973861780225544,\n",
       "  'rh5': 0.0046246150740664495,\n",
       "  'r5': 0.014799238427145998,\n",
       "  'b5': 0.020349246706159094,\n",
       "  'tb4': 0.0023123102800638555,\n",
       "  'tb5': 0.0011561551400319277,\n",
       "  'Cm4': 16.206681977993124,\n",
       "  'U4': 111.57214304974366,\n",
       "  'Ct4': 167.56773991864574},\n",
       " 'tonozzle': (11.0,\n",
       "  0.05780775700159639,\n",
       "  1.474379020430855,\n",
       "  0.006702807690102392,\n",
       "  167.56773991864574,\n",
       "  60.650179247598174,\n",
       "  1.999994473977962),\n",
       " 'input': {'mflows': 1.999994473977962,\n",
       "  'coeffs': [1.45257423, 15.01877936],\n",
       "  'gparams': [0.25600783, 3.03592877, 0.11594997, 0.75, 11.0]}}"
      ]
     },
     "execution_count": 3,
     "metadata": {},
     "output_type": "execute_result"
    }
   ],
   "source": [
    "ComputeR4all(cyclenum=10,mflows=1.999994473977962,coeffs=[ 1.45257423, 15.01877936],gparams=[  0.25600783 , 3.03592877,  0.11594997,  0.75       ,11.         ])"
   ]
  },
  {
   "cell_type": "code",
   "execution_count": 8,
   "metadata": {},
   "outputs": [
    {
     "data": {
      "text/plain": [
       "3.9999999818109493"
      ]
     },
     "execution_count": 8,
     "metadata": {},
     "output_type": "execute_result"
    }
   ],
   "source": [
    "R2DContour['rh5']"
   ]
  },
  {
   "cell_type": "code",
   "execution_count": 6,
   "metadata": {},
   "outputs": [],
   "source": [
    "def ComputeR4alldum(cyclenum,mflows,coeffs:list,gparams:list) -> 'Effts':\n",
    "\n",
    "    global T_1,T_5,P_1,P_5,p04s,p04,p4s,p4,p05ss,p5ss,p05,p5,T05ss,T05,T5ss,T5,rho4s,rho5ss,mflow,h4s,h04s\n",
    "    global r4,r5,rs5,rh5,b4,b5,Zr,NR,tb4,tb5\n",
    "    global C4,Ct4,Cm4,W4,U4,Alpha4,Beta4,C5,Ct5,Cm5,W5,U5,Alpha5,Beta5,Beta4opt,Beta4opt2\n",
    "    global Cm5didconverge1,Cm5didconverge2,k1Cm5,k2Cm5,errorC5,Ma4s,rpm\n",
    "    global TotalLoss,LossInc,LossInc0,LossPass,LossTip,LossWind,LossTE,LossExit,S5,O5,Effreductbladeloading\n",
    "    global Effts,Efftt,Efftspred,Reaction,vNu\n",
    "    global Beta4,Beta5,b4,r4,Zr,rs5,rh5\n",
    "    global Bk4,Bk5\n",
    "    cycledict=whichcycle (cyclenum)       # The cycle to be computed\n",
    "    globals().update(cycledict)\n",
    "    mflow   = mflows\n",
    "    tenflow_coeff   = coeffs[0]\n",
    "    tenwork_coeff   = coeffs[1]\n",
    "    Rr5r4   = gparams[0]\n",
    "    Rb5b4   = gparams[1]\n",
    "    Rb4r4   = gparams[2]\n",
    "    RZrr4   = gparams[3]\n",
    "    NR      = gparams[4]\n",
    "    flow_coeff=tenflow_coeff/10\n",
    "    work_coeff=tenwork_coeff/10\n",
    "    # cycledict=whichcycle (cyclenum)       # The cycle to be computed\n",
    "    # globals().update(cycledict)\n",
    "    \n",
    "    # gparamdict=whichgparamset (l)  # geometry parameter set to be used is the l\n",
    "    # globals().update(gparamdict)\n",
    "    # rpm =whatrpm(m)          # rpm at m will be used\n",
    "    # P_1 = P_1*10**6   sudah diubah jadi pa di fungsi whichcycle\n",
    "    # P_5 = P_5*10**6\n",
    "    Cp4 = Props('C','T',T_1,'P',P_1,fluid)\n",
    "    Cv4 = Props('O','T',T_1,'P',P_1,fluid)\n",
    "    gamma = Cp4/Cv4\n",
    "    Rx = 8.31446261815324   #J/K.mol\n",
    "    #General Properties inlet outlet turbin (Total)\n",
    "    H_1     = Props('H','T',T_1,'P',P_1,fluid)     #J/kg\n",
    "    s01     = Props('S','T',T_1,'P',P_1,fluid)     #J/kg.K \n",
    "    T_5     = Props('T','P',P_5,'S',s01,fluid)  # =>asumsi nozzle isenthalpy DAN Isentropic\n",
    "    H_5     = Props('H','T',T_5,'P',P_5,fluid)  # meski pada kenyataannya isenthalpic nozzle tidak isentropic\n",
    "    DeltaH  = H_1-H_5            #Ideal === Isentropic Total Enthalpy change \n",
    "    C0s     = np.sqrt(2*DeltaH)         #Spouting Velocity\n",
    "    #Perhitungan Properties ideal lain (Total)\n",
    "    p01     = P_1           #inlet volute [1], Total\n",
    "    T01     = T_1\n",
    "    h01     = H_1\n",
    "    p1      = p01           # inlet turbine, V~0 \n",
    "    T1      = T_1\n",
    "    h01     = H_1\n",
    "    rho1   = Props('D','P',p1,'T',T1,fluid)\n",
    "    h02s    = H_1           #inlet nozzle [2], Total\n",
    "    s02s    = s01            #ideal volute === approx. as isentropic\n",
    "    p02s    = p01\n",
    "    T02s    = T01\n",
    "    h03s    = h02s           #outlet nozzle [3], Total\n",
    "    s03s    = s02s            #ideal nozzle === approx. as isentropic (in Total)\n",
    "    p03s    = p02s\n",
    "    T03s    = T02s\n",
    "    h04s    = h03s           #inlet rotor [4], Total\n",
    "    s04s    = s03s           #outlet nozzle === inlet rotor\n",
    "    p04s    = p03s\n",
    "    T04s    = T03s\n",
    "    h04     = h04s          # Nozzle isenthalpic but not isentropic\n",
    "    p05ss   = P_5\n",
    "    T05ss   = T_5\n",
    "    h05ss   = H_5\n",
    "    s05ss   = s04s\n",
    "    #Segitiga Kecepatan Inlet, m/s, radians\n",
    "    U4      = np.sqrt(DeltaH/work_coeff)\n",
    "    Cm4     = U4*flow_coeff\n",
    "    Ct4     = DeltaH/U4                 # => DeltaH = U4*Ct4-U5*Ct5 ; Alpha5=0 => Ct5=0\n",
    "    C4      = np.sqrt(Cm4**2+Ct4**2)\n",
    "    Alpha4  = np.arctan(Ct4/Cm4) \n",
    "    W4      = np.sqrt(Cm4**2+(U4-Ct4)**2)\n",
    "    Beta4   = np.arctan((U4-Ct4)/Cm4)\n",
    "    h4s    = h04s-1/2*C4**2\n",
    "    rho4s   = Props('D','H',h4s,'S',s04s,fluid)\n",
    "    rho05ss = Props('D','H',h05ss,'S',s05ss,fluid)\n",
    "    a4      = Props('A','H',h4s,'S',s04s,fluid)\n",
    "    Ma4s    = C4/a4\n",
    "    initr4guess=0.045 # => initial guess r4 = 4.5cm\n",
    "    r40     = initr4guess\n",
    "    r4      = 0.04  # => set asal untuk memulai loop\n",
    "    while np.abs(r40-r4)/r40 > 0.01: # residual/error harus lebih kecil dari 1%\n",
    "        r40     = r4\n",
    "        if 0.04*r4>0.001:\n",
    "            tb4 = 0.04*r4\n",
    "        else:\n",
    "            tb4 = 0.001\n",
    "        Bk4     = (tb4*NR)/(2*np.pi*r40*np.cos(Beta4))\n",
    "        r4      = np.sqrt(mflow/(2*np.pi*Rb4r4*Cm4*rho4s*(1-Bk4))) # mflow sebagai input\n",
    "    angvel  = U4/r4\n",
    "    rpm     = angvel*(60/(2*np.pi))\n",
    "    r5      = Rr5r4*r4\n",
    "    b4      = Rb4r4*r4\n",
    "    b5      = Rb5b4*b4\n",
    "    rs5     = (2*r5+b5)/2\n",
    "    rh5     = rs5-b5\n",
    "    if 0.02*r4>0.001:\n",
    "        tb5 = 0.02*r4\n",
    "    else:\n",
    "        tb5 = 0.001\n",
    "    Ct5 = 0 # => it is predetermined that Alpha5=0\n",
    "    Alpha5 = 0\n",
    "    Cm5_0    = 10\n",
    "    rho5ss_0= rho05ss        # => initial value for iteration\n",
    "    Cm5ii    = Cm5_0\n",
    "    rho5ssii= rho5ss_0\n",
    "    Cm5didconverge1 = False\n",
    "    Cm5didconverge2 = False\n",
    "    choked5     = False\n",
    "    k1Cm5    = 0\n",
    "    k2Cm5    = 0\n",
    "    while Cm5didconverge1 == False:\n",
    "        k1Cm5       = k1Cm5+1             # => iteration amount\n",
    "        Cm5i        = Cm5ii\n",
    "        rho5ssi      = rho5ssii\n",
    "        C5      = np.sqrt(Cm5i**2+Ct5**2)\n",
    "        U5      = U4*Rr5r4\n",
    "        W5      = np.sqrt(Cm5i**2+(U5-Ct5)**2)\n",
    "        Beta5   = np.arccos(Cm5i/W5)\n",
    "        Bk5     = (tb5*NR)/(2*np.pi*r5*np.cos(Beta5))\n",
    "        Cm5ii       = (1/(Rb5b4*Rr5r4))*(rho4s/rho5ssi)*(1-Bk4)/(1-Bk5) *Cm4\n",
    "        # Cm4ii       = mflow/(2*np.pi()*b5*)\n",
    "        h5ss         = h05ss-1/2*(Cm5ii**2+Ct5**2)\n",
    "        rho5ssii     = Props('D','H',h5ss,'S',s05ss,fluid)\n",
    "        errorCm5    = np.abs((Rb5b4*Rr5r4*(rho5ssii/rho4s)*(Cm5ii/Cm4)*((1-Bk5)/(1-Bk4)))-1)\n",
    "        # errorCm4    = mflow/(rho5ssii*Cm4ii*2*np.pi*b4*r4)-1\n",
    "        if errorCm5 <= 5*1e-3:\n",
    "            Cm5didconverge1 = True\n",
    "            Cm5didconverge2 = True\n",
    "            Cm5     = Cm5ii\n",
    "            rho5ss   = rho5ssii\n",
    "            break\n",
    "        if (rho5ssi*Cm5i-rho5ssii*Cm5ii)*(Cm5i-Cm5ii)<0:\n",
    "            Cm5      = Cm5ii\n",
    "            rho5ss  = rho5ssii\n",
    "            break\n",
    "        if k1Cm5>200:\n",
    "            print(f\"loop1 iterates too long ({k1Cm5}) at {flow_coeff,work_coeff} with errorCm5 = {errorCm5}\")\n",
    "            break\n",
    "    while Cm5didconverge2 == False:\n",
    "        k2Cm5     = k2Cm5 +1         # => iteration amount\n",
    "        \n",
    "        C5      = np.sqrt(Cm5**2+Ct5**2)\n",
    "        U5      = U4*Rr5r4\n",
    "        W5       = np.sqrt(Cm5**2+(U5-Ct5)**2)\n",
    "        Beta5   = np.arccos(Cm5/W5)\n",
    "        Bk5     = (tb5*NR)/(2*np.pi*r5*np.cos(Beta5))\n",
    "        Cm5       = (1/(Rb5b4*Rr5r4))*(rho4s/rho5ss)*(1-Bk4)/(1-Bk5) *Cm4 # -_- -_- -_-\n",
    "        h5ss       = h05ss-1/2*(Cm5**2+Ct5**2)\n",
    "        rho5ss     = Props('D','H',h5ss,'S',s05ss,fluid)\n",
    "        if np.abs(1-Cm5/Props('A','H',h5ss,'S',s05ss,fluid)) < 5*1e-3:\n",
    "            choked5 = True\n",
    "            break\n",
    "        errorCm5  = np.abs((Rb5b4*Rr5r4*(rho5ss/rho4s)*(Cm5/Cm4)*((1-Bk5)/(1-Bk4)))-1)\n",
    "        if errorCm5 <= 5*1e-5:\n",
    "            Cm5didconverge2 = True\n",
    "            break\n",
    "        if k2Cm5>200:\n",
    "            print(f\"loop2 iterates too long ({k1Cm5},{k2Cm5}) at {flow_coeff,work_coeff} with errorCm5 = {errorCm5}\")\n",
    "            break\n",
    "    h5ss    = h05ss-1/2*(Cm5**2+Ct5**2)\n",
    "    C5      = np.sqrt(Cm5**2+Ct5**2)\n",
    "    U5      = U4*Rr5r4\n",
    "    W5      = np.sqrt(Cm5**2+(U5-Ct5)**2)\n",
    "    Beta5   = np.arccos(Cm5/W5)\n",
    "    #Perhitungan geometri\n",
    "    # r4      = U4/np.radians(rpm*6)\n",
    "    # r4      = np.sqrt(mflow/(2*np.pi*Rb4r4*Cm4*rho4s)) # mflow sebagai input\n",
    "    # angvel  = U4/r4\n",
    "    # rpm     = angvel*(60/(2*np.pi))\n",
    "    # r5      = Rr5r4*r4\n",
    "    # b4      = Rb4r4*r4\n",
    "    # b5      = Rb5b4*b4\n",
    "    # rs5     = (2*r5+b5)/2\n",
    "    # rh5     = rs5-b5\n",
    "    # if rh5 < 0.0015:\n",
    "    #     print(f\"For flow coeff ={flow_coeff} and work coeff={work_coeff} rh5 too small(<1.5mm), adjust gparams\")\n",
    "    \n",
    "    Zr      = RZrr4*r4\n",
    "    # mflow   = 2*np.pi*b5*r5*rho5ss*Cm5\n",
    "    Q5      = mflow/rho05ss\n",
    "    ns      = np.radians(rpm*6)*np.sqrt(Q5)/DeltaH**0.75\n",
    "    Efftspred    = 0.81-1.07*(ns-0.55)**2-0.5*(ns-0.55)**3       #predicted total-to-static efficiency\n",
    "    p04     = p01-rho1*DeltaH*(1-Efftspred)/4\n",
    "    T04     = Props('T','P',p04,'H',h04s,fluid)\n",
    "    s04     = Props('S','P',p04,'T',T04,fluid)\n",
    "    #Perhitungan Properties ideal lain (Static)\n",
    "    h4s     = h04s-1/2*C4**2\n",
    "    p4s     = Props('P','H',h4s,'S',s04s,fluid)\n",
    "    p4      = Props('P','H',h4s,'S',s04,fluid)\n",
    "    T4s     = Props('T','H',h4s,'S',s04s,fluid)\n",
    "    rho04s  = Props('D','P',p04s,'T',T04s,fluid)\n",
    "    rho4s   = Props('D','P',p4s,'T',T4s,fluid)\n",
    "    rho4sm  = 2*(p04s-p4s)/C4**2\n",
    "    h4      = h04-1/2*C4**2\n",
    "    p4      = Props('P','H',h4,'S',s04,fluid)\n",
    "    T4      = Props('T','H',h4,'S',s04,fluid)\n",
    "    rho04   = Props('D','P',p04,'T',T04,fluid)\n",
    "    rho4    = Props('D','P',p4,'H',h04,fluid)\n",
    "    rho4m   = 2*(p04-p4)/C4**2\n",
    "    # a01     = Props('A','P',p01,'T',T01,fluid)\n",
    "    # a4s     = Props('A','P',p4s,'T',T4s,fluid)\n",
    "    # a4      = Props('A','P',p4,'T',T4,fluid)\n",
    "    # Ma4s    = C4/a4s\n",
    "    # Ma4     = C4/a4\n",
    "    T5ss    = Props('T','H',h5ss,'S',s05ss,fluid)\n",
    "    p5ss    = Props('P','H',h5ss,'S',s05ss,fluid)\n",
    "    Re4s    = rho4s*C4*b4/Props('V','P',p4s,'T',T4s,fluid)\n",
    "    Re4     = rho4*C4*b4/Props('V','P',p4,'T',T4,fluid)\n",
    "    S5      = 2*np.pi*r5/NR\n",
    "    O5      = S5*Cm5/W5\n",
    "    p5ss    = Props('P','H',h5ss,'S',s05ss,fluid)\n",
    "    a5ss    = Props('A','H',h5ss,'P',p5ss,fluid)\n",
    "    Ma5ss   = C5/a5ss\n",
    "    # \\\\\\\\\\\\\\ <<---------<<----||----->>------------>> ////////\n",
    "    ## Losses Coefficient ##\n",
    "    #Rotor Incidence Losses \n",
    "    Beta4opt2= np.arctan((-1.98/NR)/(1-1.98/NR)*np.tan(Alpha4))\n",
    "    Beta4opt = np.arctan(np.tan(Alpha4)*(work_coeff-1+2/NR)/work_coeff)  #(Chen)\n",
    "    LossInc0 = 0.5*(W4**2)*(np.sin(np.abs(np.abs(Beta4)-np.abs(Beta4opt))))**2  #m2/s2\n",
    "    LossInc  = 0.5*(W4**2)*(np.sin(Beta4)-np.sin(Beta4opt))**2\n",
    "    #Blade loading efficiency (Chen)\n",
    "    vNu = U4/np.sqrt(2*Cp4*T01*(1-(p5ss/p01)**((gamma-1)/gamma))) #blade/isentropic jet speed ratio\n",
    "    Effreductbladeloading = flow_coeff**2*vNu**2\n",
    "    #Rotor Passage Losses ([Uusitalo] from Moustapha PLM3)\n",
    "    LH = np.pi/4*((Zr-b4/2)+(r4-rh5-b5/2))                                                              #m\n",
    "    DH = 0.5*((4*np.pi*r4*b4/(2*np.pi*r4+Zr*rh5))+((2*np.pi*(rs5**2-rh5**2)/(np.pi*(rs5-rh5))+Zr*b5)))  #m\n",
    "    Y5 = np.arctan(0.5*(np.tan(Beta4)+np.tan(Beta5)))\n",
    "    C = Zr/np.cos(Y5)\n",
    "    if (r4-rs5)/b5>=0.2:\n",
    "        KpCETI = 0.11\n",
    "    else:\n",
    "        KpCETI = 0.22\n",
    "    LossPass = KpCETI*(LH/DH+0.68*((1-(r5/r4)**2)*np.cos(Beta5)/(b5/C))*((W4**2+W5**2)/2))\n",
    "    #Rotor Clearance Losses\n",
    "    Ca = (1-(rs5/r4))/(Cm4*b4)\n",
    "    Cr = (rs5/r4)*((Zr-b4)/(Cm5*r5*b5))\n",
    "    Ka = 0.4\n",
    "    Kr = 0.75\n",
    "    Kar = -0.3\n",
    "    Ea = 0.0003\n",
    "    Er = 0.0003\n",
    "    if Ea*Er*Ca*Cr>=0:\n",
    "        LossTip = (U4**3*NR/(8*np.pi))*(Ka*Ea*Ca+Kr*Er*Cr+Kar*np.sqrt(Ea*Er*Ca*Cr))\n",
    "    else:\n",
    "        LossTip = (U4**3*NR/(8*np.pi))*(Ka*Ea*Ca+Kr*Er*Cr)\n",
    "    #Windage Losses # disk friction losses (fiaschi, 2015: 4.2.5)\n",
    "    Eb = 0.0003\n",
    "    Kf = 3.7*(Eb/r4)**0.1/Re4s**0.5\n",
    "    LossWind = Kf*((rho4s+rho5ss)/2)*U4**3*r4**2/(2*mflow*W5**2)\n",
    "    #Trailing Edge Losses\n",
    "    if 0.04*r4>0.001:\n",
    "        tb4 = 0.04*r4\n",
    "    else:\n",
    "        tb4 = 0.001\n",
    "    if 0.02*r4>0.001:\n",
    "        tb5 = 0.02*r4\n",
    "    else:\n",
    "        tb5 = 0.001\n",
    "    LossTE = rho5ss*W5**2/2*(NR*tb5/(np.pi*(rh5+rs5)*np.cos(Beta5)))**2\n",
    "    #Exit Losses\n",
    "    LossExit = 0.5*C5**2    # => mungkin untuk ubah dari total jadi static. abaikan dulu\n",
    "    # => Sum Enthalpy Losses\n",
    "    TotalLoss = LossInc + LossPass + LossTip + LossWind + LossTE\n",
    "    # \\\\\\\\\\\\\\ <<---------<<----||----->>------------>> ////////\n",
    "    #Perhitungan Properties considering losses\n",
    "    h05 = h05ss+ (LossInc0+LossPass+LossTip+LossWind+LossTE)             #nozzle masih diasumsikan isentropic dan isenthalpic\n",
    "    h5  = h5ss+ (LossInc+LossPass+LossTip+LossWind+LossTE  )   \n",
    "    p05 = p05ss\n",
    "    p5  = Props('P','H',h5,'S',s05ss,fluid)\n",
    "    T05 = Props('T','H',h05,'P',p05,fluid)\n",
    "    T5  = Props('T','H',h5,'P',p5,fluid)\n",
    "    #Effisiensi \n",
    "    Reaction    = (h4s-h5)/(h01-h05ss)\n",
    "    Efftt       = ((h01-h05)/(h01-h05ss)-0)*100\n",
    "    Effts       = ((h01-h05)/(h01-h5ss)-Effreductbladeloading)*100\n",
    "    geomdict    = dict()\n",
    "    thermodict  = dict()\n",
    "    veltridict  = dict()\n",
    "    effdict     = dict()\n",
    "    lossdict    = dict()\n",
    "    proceeddict = dict()\n",
    "    inputdict     = dict()\n",
    "    for i in ('r4','r5','rs5','rh5','b4','b5','Zr','NR','tb4','tb5'):\n",
    "        geomdict[i]     = globals()[i]\n",
    "    for i in ('T_1','T_5','P_1','P_5','p04s','p04','p4s','p4','p5ss','p5','p05ss','p05','T05ss','T05','T5ss','T5','rho4s','rho5ss','mflow','h4s','h04s'):\n",
    "        thermodict[i]   = globals()[i]\n",
    "    for i in ('C4','Ct4','Cm4','W4','U4','Alpha4','Beta4','C5','Ct5','Cm5','W5','U5','Alpha5','Beta5','Beta4opt','Beta4opt2','Cm5didconverge1','Cm5didconverge2','k1Cm5','k2Cm5','Ma4s'):\n",
    "        veltridict[i]   = globals()[i]\n",
    "    for i in ('Reaction','Effts','Efftt','rpm'):\n",
    "        effdict[i]      = globals()[i]\n",
    "    for i in ('LossInc0','LossInc','LossPass','LossTip','LossWind','LossTE','Effreductbladeloading','LossExit'):\n",
    "        lossdict[i]     = globals()[i]\n",
    "    for i in ('Beta4','Beta5','b4','r4','Zr','rs5','rh5','r5','b5','tb4','tb5',\\\n",
    "        'Cm4','U4','Ct4'):\n",
    "        proceeddict[i]  = globals()[i]\n",
    "    tonozzlelist        = NR,r4,Alpha4,b4,Ct4,rho4,mflow\n",
    "    # for i in ('mflows','coeffs','gparams'):\n",
    "        # inputdict       = locals()[i]\n",
    "    inputdict['mflows'] = mflows\n",
    "    inputdict['coeffs'] = coeffs\n",
    "    inputdict['gparams']= gparams\n",
    "    outputdict  = {\n",
    "        'geometry'  : geomdict,\n",
    "        'thermo'    : thermodict,\n",
    "        'velocity'  : veltridict,\n",
    "        'efficiency': effdict,\n",
    "        'losses'    : lossdict,\n",
    "        'proceed'   : proceeddict,\n",
    "        'tonozzle'    : tonozzlelist,\n",
    "        'input'     : inputdict\n",
    "        }\n",
    "    return outputdict"
   ]
  },
  {
   "cell_type": "code",
   "execution_count": 3,
   "metadata": {},
   "outputs": [
    {
     "data": {
      "text/plain": [
       "83.04152344572684"
      ]
     },
     "execution_count": 3,
     "metadata": {},
     "output_type": "execute_result"
    }
   ],
   "source": [
    "np.degrees(1.449348)"
   ]
  },
  {
   "cell_type": "code",
   "execution_count": 10,
   "metadata": {},
   "outputs": [
    {
     "data": {
      "text/plain": [
       "0.004"
      ]
     },
     "execution_count": 10,
     "metadata": {},
     "output_type": "execute_result"
    }
   ],
   "source": [
    "0.08*0.05"
   ]
  },
  {
   "cell_type": "code",
   "execution_count": 7,
   "metadata": {},
   "outputs": [
    {
     "data": {
      "text/plain": [
       "{'geometry': {'r4': 0.05780775700159639,\n",
       "  'r5': 0.014799238427145998,\n",
       "  'rs5': 0.024973861780225544,\n",
       "  'rh5': 0.0046246150740664495,\n",
       "  'b4': 0.006702807690102392,\n",
       "  'b5': 0.020349246706159094,\n",
       "  'Zr': 0.04335581775119729,\n",
       "  'NR': 11.0,\n",
       "  'tb4': 0.0023123102800638555,\n",
       "  'tb5': 0.0011561551400319277},\n",
       " 'thermo': {'T_1': 353.0,\n",
       "  'T_5': 318.8811419571459,\n",
       "  'P_1': 3714700.0,\n",
       "  'P_5': 2293400.0,\n",
       "  'p04s': 3714700.0,\n",
       "  'p04': 3589080.49824752,\n",
       "  'p4s': 2584694.14219078,\n",
       "  'p4': 2499723.8590645376,\n",
       "  'p5ss': 2279208.0807944876,\n",
       "  'p5': 2902589.8619850064,\n",
       "  'p05ss': 2293400.0,\n",
       "  'p05': 2293400.0,\n",
       "  'T05ss': 318.8811419571459,\n",
       "  'T05': 320.6971338169347,\n",
       "  'T5ss': 318.4638909604171,\n",
       "  'T5': 335.1351808458841,\n",
       "  'rho4s': 67.7552698251539,\n",
       "  'rho5ss': 60.76375530969978,\n",
       "  'mflow': 1.999994473977962,\n",
       "  'h4s': 533694.7998203858,\n",
       "  'h04s': 547865.6018214751},\n",
       " 'velocity': {'C4': 168.34964806075095,\n",
       "  'Ct4': 167.56773991864574,\n",
       "  'Cm4': 16.206681977993124,\n",
       "  'W4': 58.293768187006094,\n",
       "  'U4': 111.57214304974366,\n",
       "  'Alpha4': 1.474379020430855,\n",
       "  'Beta4': -1.289066803796433,\n",
       "  'C5': 21.58390824646002,\n",
       "  'Ct5': 0,\n",
       "  'Cm5': 21.58390824646002,\n",
       "  'W5': 35.801251578329044,\n",
       "  'U5': 28.563342230614456,\n",
       "  'Alpha5': 0,\n",
       "  'Beta5': 0.9236885971982587,\n",
       "  'Beta4opt': 1.3614501214620884,\n",
       "  'Beta4opt2': -1.1557864131050535,\n",
       "  'Cm5didconverge1': True,\n",
       "  'Cm5didconverge2': True,\n",
       "  'k1Cm5': 2,\n",
       "  'k2Cm5': 0,\n",
       "  'Ma4s': 0.8025566647363434},\n",
       " 'efficiency': {'Reaction': -0.23850871102853607,\n",
       "  'Effts': 83.64857015133583,\n",
       "  'Efftt': 84.81130556372524,\n",
       "  'rpm': 18430.66640059989},\n",
       " 'losses': {'LossInc0': 8.886538528425266,\n",
       "  'LossInc': 6386.3801150893905,\n",
       "  'LossPass': 307.24355413274685,\n",
       "  'LossTip': 519.3425143399212,\n",
       "  'LossWind': 0.05690128261256173,\n",
       "  'LossTE': 2004.1323767555773,\n",
       "  'Effreductbladeloading': 0.0011907242221843627,\n",
       "  'LossExit': 232.93254759580242},\n",
       " 'proceed': {'Beta4': -1.289066803796433,\n",
       "  'Beta5': 0.9236885971982587,\n",
       "  'b4': 0.006702807690102392,\n",
       "  'r4': 0.05780775700159639,\n",
       "  'Zr': 0.04335581775119729,\n",
       "  'rs5': 0.024973861780225544,\n",
       "  'rh5': 0.0046246150740664495,\n",
       "  'r5': 0.014799238427145998,\n",
       "  'b5': 0.020349246706159094,\n",
       "  'tb4': 0.0023123102800638555,\n",
       "  'tb5': 0.0011561551400319277,\n",
       "  'Cm4': 16.206681977993124,\n",
       "  'U4': 111.57214304974366,\n",
       "  'Ct4': 167.56773991864574},\n",
       " 'tonozzle': (11.0,\n",
       "  0.05780775700159639,\n",
       "  1.474379020430855,\n",
       "  0.006702807690102392,\n",
       "  167.56773991864574,\n",
       "  60.650179247598174,\n",
       "  1.999994473977962),\n",
       " 'input': {'mflows': 1.999994473977962,\n",
       "  'coeffs': [1.45257423, 15.01877936],\n",
       "  'gparams': [0.25600783, 3.03592877, 0.11594997, 0.75, 11.0]}}"
      ]
     },
     "execution_count": 7,
     "metadata": {},
     "output_type": "execute_result"
    }
   ],
   "source": [
    "ComputeR4alldum(cyclenum=10,mflows=1.999994473977962,coeffs=[ 1.45257423, 15.01877936],gparams=[  0.25600783 , 3.03592877,  0.11594997,  0.75       ,11.         ])\n"
   ]
  },
  {
   "cell_type": "code",
   "execution_count": 5,
   "metadata": {},
   "outputs": [
    {
     "data": {
      "text/plain": [
       "[0.0,\n",
       " 0.02683575005777921,\n",
       " 0.06090503308582392,\n",
       " 0.08870921743939889,\n",
       " 0.11123747343857898,\n",
       " 0.13878121272619268,\n",
       " 0.17104867815420513,\n",
       " 0.19789393097519245,\n",
       " 0.21964269310911244,\n",
       " 0.2510336367672248,\n",
       " 0.27720047517935964,\n",
       " 0.29839299780567624,\n",
       " 0.32425802675610027,\n",
       " 0.3546686843336519,\n",
       " 0.3801245781729708,\n",
       " 0.40079600806051685,\n",
       " 0.4306963205322639,\n",
       " 0.45576618284700254,\n",
       " 0.4761398318423125,\n",
       " 0.5010699446459017,\n",
       " 0.5305056715385591,\n",
       " 0.5552743344913864,\n",
       " 0.5754605900555538,\n",
       " 0.6001989820624385,\n",
       " 0.6294820347116522,\n",
       " 0.6496500931478373,\n",
       " 0.6744252406216379,\n",
       " 0.703832153122177,\n",
       " 0.7287228819538787,\n",
       " 0.7491031184338075,\n",
       " 0.7741979356094688,\n",
       " 0.8040835823463909,\n",
       " 0.8247904732298891,\n",
       " 0.8503591418646191,\n",
       " 0.8809099442966459,\n",
       " 0.9069557678588085,\n",
       " 0.9284091887644759,\n",
       " 0.9549872641056539,\n",
       " 0.9868845640628696,\n",
       " 1.0091530547260419,\n",
       " 1.0368373894538427,\n",
       " 1.0702028247837083,\n",
       " 1.0989133974522152,\n",
       " 1.1227490400220088,\n",
       " 1.1525199930609709,\n",
       " 1.1886198854708028,\n",
       " 1.2199004835349248,\n",
       " 1.246029585402857,\n",
       " 1.2850000862620505,\n",
       " 1.3189713626425772,\n",
       " 1.3474958484411377,\n",
       " 1.3835490173670655,\n",
       " 1.4279410844278475,\n",
       " 1.467055925137007,\n",
       " 1.500220754989223,\n",
       " 1.5505616941314415,\n",
       " 1.5953943412285876,\n",
       " 1.6337822058451328,\n",
       " 1.6833447525521967,\n",
       " 1.7461472722632583,\n",
       " 1.8033500041229116,\n",
       " 1.8534167956466483,\n",
       " 1.9325189010077897,\n",
       " 2.0068126139801463,\n",
       " 2.073982025680133,\n",
       " 2.1666925832865225,\n",
       " 2.2974172269342894,\n",
       " 2.43683362433804,\n",
       " 2.5886336527391367,\n",
       " 3.2965112586962966]"
      ]
     },
     "execution_count": 5,
     "metadata": {},
     "output_type": "execute_result"
    }
   ],
   "source": [
    "Rangles['tethah']"
   ]
  }
 ],
 "metadata": {
  "kernelspec": {
   "display_name": "Python 3.10.5 ('ifrvenv': venv)",
   "language": "python",
   "name": "python3"
  },
  "language_info": {
   "codemirror_mode": {
    "name": "ipython",
    "version": 3
   },
   "file_extension": ".py",
   "mimetype": "text/x-python",
   "name": "python",
   "nbconvert_exporter": "python",
   "pygments_lexer": "ipython3",
   "version": "3.10.5"
  },
  "orig_nbformat": 4,
  "vscode": {
   "interpreter": {
    "hash": "1e752cfb7f6dadf51eebad56247554a6ca562cae379904bfe225e9f7ab5ccdf7"
   }
  }
 },
 "nbformat": 4,
 "nbformat_minor": 2
}
