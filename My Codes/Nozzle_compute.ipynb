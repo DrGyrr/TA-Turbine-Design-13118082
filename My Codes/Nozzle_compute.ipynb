{
 "cells": [
  {
   "cell_type": "markdown",
   "metadata": {},
   "source": [
    "##### Imports"
   ]
  },
  {
   "cell_type": "code",
   "execution_count": 2,
   "metadata": {},
   "outputs": [],
   "source": [
    "import numpy as np\n",
    "import CoolProp\n",
    "from CoolProp.CoolProp import PropsSI as Props\n",
    "import pandas as pd\n",
    "import matplotlib.pyplot as plt"
   ]
  },
  {
   "cell_type": "markdown",
   "metadata": {},
   "source": [
    "#### Define"
   ]
  },
  {
   "cell_type": "code",
   "execution_count": null,
   "metadata": {},
   "outputs": [],
   "source": [
    "def VariableNozz(NR,r4,Alpha4,b4,Ct4,rho4,mflow):\n",
    "  global aOc,Betha2,Nn,r3,Ct3,Cm3,r2Or3,r2,s3,o3,Alpha3,t2Oc,t3Oc,tmaxOc,dOc\n",
    "  aOc = 0.3               #Varopt\n",
    "  Beta2=np.radians(21)   #Varopt\n",
    "  Nn = NR + 1             #Varopt\n",
    "  r3=r4*(1+(2*b4*np.sin(np.radians(Alpha4)))/r4)\n",
    "  Ct3=Ct4*r4/r3\n",
    "  Cm3=mflow/(2*np.pi*r3*b4*rho4)\n",
    "  r2Or3=1.2       #Varopt\n",
    "  r2=r2Or3*r3\n",
    "  s3=2*np.pi*r3/Nn\n",
    "  o3=s3*Cm3/(np.sqrt(Cm3**2+Ct3**2))\n",
    "  Alpha3=np.arcsin(o3/s3)\n",
    "  t2Oc = 0.03     #Varopt\n",
    "  t3Oc = 0.015    #Varopt\n",
    "  tmaxOc = 0.06   #Varopt\n",
    "  dOc = 0.4       #Varopt\n",
    "def GuessNozz():\n",
    "  global bi,ci,ai\n",
    "  bi=abs(np.random.uniform(0.1,0.5)*o3)\n",
    "  ci=abs(np.random.uniform(0,1,1)*(r3-r2))  \n",
    "  ai= ci*aOc\n",
    "def NozzCalc1(ai,bi,ci):\n",
    "  #Variabel Desain\n",
    "  global Y03,Tetha,Y2\n",
    "  #Kalkulasi Y03\n",
    "  X2=np.arctan(4*bi/(4*ai-ci))\n",
    "  X3=np.arctan(4*bi/(3*ci-4*ai))\n",
    "  Tetha=X2+X3\n",
    "  Y2=Betha2+X2\n",
    "  Y03=r2/r3*np.cos(Y2)\n",
    "def NozzCalc2(ai,bi,ci):\n",
    "  global a,b,c,Errora,Errorb,Errorc\n",
    "  Y3=np.arccos(Y03)\n",
    "  c=(r2-r3)/np.sin(Y3)\n",
    "  a=c*aOc\n",
    "  b=((np.sqrt(1+(4*np.tan(Tetha)**2)*(ai/ci-(ai/ci)**3-3/16)))-1)/(4*np.tan(Tetha))*ci\n",
    "  Errora=(ai-a)\n",
    "  Errorb=(bi-b)\n",
    "  Errorc=(ci-c)\n",
    "def VariantSearchNozz():\n",
    "    global SListA,SListB,SListC,ErrorList\n",
    "    SListB=[]\n",
    "    SListC=[]\n",
    "    SListA=[]\n",
    "    ErrorList=[]\n",
    "    # Y03List=[]\n",
    "    SListSize=1000\n",
    "    for k in range(0,SListSize):\n",
    "        Y03=2\n",
    "        while Y03>1:\n",
    "            bi=abs(np.random.uniform(0.1,0.8)*o3)\n",
    "            ci=abs(np.random.uniform(0,5,1)*(r3-r2))  \n",
    "            ai=ci*aOc\n",
    "            Y03=NozzCalc1(ai,bi,ci)[0]\n",
    "            if Y03<=1:\n",
    "                break\n",
    "        ListNozzCalc1=NozzCalc2(ai,bi,ci)\n",
    "        Errora=ListNozzCalc1[3]\n",
    "        Errorb=ListNozzCalc1[4]\n",
    "        Errorc=ListNozzCalc1[5]\n",
    "        Errorx=abs(Errora)+abs(Errorb)+abs(Errorc)\n",
    "        SListB.append(bi)\n",
    "        SListC.append(ci)\n",
    "        SListA.append(ai)\n",
    "        ErrorList.append(Errorx)\n",
    "        # Y03.append(Y03)\n",
    "        \n",
    "        # print(SListA)\n",
    "        # print()\n",
    "        # print(SListB)\n",
    "        # print()\n",
    "        # print(SListC)\n",
    "        # print()\n",
    "        # print(ErrorList)"
   ]
  },
  {
   "cell_type": "code",
   "execution_count": null,
   "metadata": {},
   "outputs": [],
   "source": [
    "NR      =\n",
    "r4      =\n",
    "Alpha4  = \n",
    "b4      =\n",
    "Ct4     =\n",
    "rho4    =\n",
    "mflow   ="
   ]
  }
 ],
 "metadata": {
  "kernelspec": {
   "display_name": "Python 3.10.5 ('TA-Turbine-Design': venv)",
   "language": "python",
   "name": "python3"
  },
  "language_info": {
   "codemirror_mode": {
    "name": "ipython",
    "version": 3
   },
   "file_extension": ".py",
   "mimetype": "text/x-python",
   "name": "python",
   "nbconvert_exporter": "python",
   "pygments_lexer": "ipython3",
   "version": "3.10.5"
  },
  "orig_nbformat": 4,
  "vscode": {
   "interpreter": {
    "hash": "d80a3ac338e464385995b106dc74eeba1cbeef0a960949e867e48dbfbca8f3d8"
   }
  }
 },
 "nbformat": 4,
 "nbformat_minor": 2
}
