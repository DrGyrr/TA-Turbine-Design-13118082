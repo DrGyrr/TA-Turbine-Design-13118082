{
 "cells": [
  {
   "cell_type": "markdown",
   "metadata": {},
   "source": [
    "#### Store polynom coeffs for fitted func\n",
    "\n",
    "You can store polynomial func coeffs you got from fitted func.  \n",
    "Polynomial coeffs will be stored in a xlsx file in folder  \n",
    "\n",
    ">>> /Inputs/fittedpolycoeffs/n.xlsx\n",
    "\n",
    "with n as number assigned to each fitted func (pick however you like)\n"
   ]
  },
  {
   "cell_type": "markdown",
   "metadata": {},
   "source": [
    "/////////////////////////////////////  \n",
    "assign the polynomisl coeffs to **`p[i][j]`** like this,\n",
    "\n",
    "![](pasteImage/2022-08-03-00-23-44.png)\n",
    "\n",
    "where i is index of power of flow coeffs and j is index of power of work coeffs"
   ]
  },
  {
   "cell_type": "code",
   "execution_count": null,
   "metadata": {},
   "outputs": [],
   "source": [
    "import numpy as np\n",
    "from datetime import datetime\n",
    "\n",
    "# input \n",
    "n = 0    # => INPUT which number to assign to saved .csv\n",
    "cyclenum =0      # => INPUT for which cycle number this is\n",
    "gparamsetnum =0      # => INPUT which gparamset was used\n",
    "rpm = 30000\n",
    "whichcomputeR =0 \n",
    "now=datetime.now()\n",
    "inputtime= now.strftime(\"%d-%m-%Y %H:%M\")\n",
    "# careful not to assign used n as it would overwrite csv already stored csv\n",
    "global p\n",
    "p = np.zeros(shape=(6,6))\n",
    "# assign i and j \n",
    "# example :\n",
    "p[0][0] =      -285.9\n",
    "p[1][0] =       -56.2\n",
    "p[0][1] =       162.2\n",
    "p[2][0] =      -89.08\n",
    "p[1][1] =       37.96\n",
    "p[0][2] =      -29.07\n",
    "p[3][0] =      -55.04\n",
    "p[2][1] =       50.69\n",
    "p[1][2] =      -12.32\n",
    "p[0][3] =       3.039\n",
    "p[4][0] =      -7.265\n",
    "p[3][1] =       15.04\n",
    "p[2][2] =      -8.523\n",
    "p[1][3] =       1.677\n",
    "p[0][4] =     -0.1986\n",
    "p[5][0] =      0.5554\n",
    "p[4][1] =     -0.2706\n",
    "p[3][2] =      -0.361\n",
    "p[2][3] =      0.2681\n",
    "p[1][4] =    -0.05467\n",
    "p[0][5] =    0.005047\n",
    "# //// \\\\\\\\\n",
    "\n",
    "\n"
   ]
  },
  {
   "cell_type": "markdown",
   "metadata": {},
   "source": [
    "run cell below to store p into new **`n.xlsx`**"
   ]
  },
  {
   "cell_type": "code",
   "execution_count": null,
   "metadata": {},
   "outputs": [],
   "source": [
    "import shutil\n",
    "from ifrturbinepackage.definitions import *\n",
    "import os\n",
    "import pandas as pd\n",
    "from openpyxl import load_workbook\n",
    "from datetime import datetime\n",
    "\n",
    "template = os.path.join(ROOT_DIR,\"Inputs\",\"fittedpolycoeffs\",\"template.xlsx\")\n",
    "new = os.path.join(ROOT_DIR,\"Inputs\",\"fittedpolycoeffs\",f\"{n}.xlsx\")\n",
    "shutil.copyfile(template,new)\n",
    "dfcoeff=pd.DataFrame(p)\n",
    "dfcoeff.head()\n",
    "# writer= pd.ExcelWriter(new, engine='openpyxl')\n",
    "wb  =load_workbook(new)\n",
    "ws  = wb['COEFFS']\n",
    "for i in range(0,6):\n",
    "    for j in range(0,6):\n",
    "        ws.cell(i+3,j+2).value=p[i][j]\n",
    "        \n",
    "ws  = wb['INFO']\n",
    "j=0\n",
    "for i in [cyclenum,gparamsetnum,rpm,whichcomputeR,inputtime]:\n",
    "    j=j+1\n",
    "    ws.cell(2,j).value=i\n",
    "wb.save(new)"
   ]
  },
  {
   "cell_type": "markdown",
   "metadata": {},
   "source": [
    "#### Get Eff & Visualize fitted functions in contour plot\n",
    "\n",
    "you can get fitted efficiency value for specific `[flow coeff,work coeff]` and also plot any stored fitted functions in contour plot.  \n",
    "*You don't have to run previous cells if you have already stored it before. Just input value `n` in cells below*"
   ]
  },
  {
   "cell_type": "markdown",
   "metadata": {},
   "source": [
    "##### Get Eff"
   ]
  },
  {
   "cell_type": "code",
   "execution_count": null,
   "metadata": {},
   "outputs": [],
   "source": [
    "from ifrturbinepackage.inputs import *\n",
    "from ifrturbinepackage.rotor import *\n",
    "from ifrturbinepackage.definitions import *\n",
    "import numpy as np\n",
    "import matplotlib.pyplot as plt"
   ]
  },
  {
   "cell_type": "code",
   "execution_count": null,
   "metadata": {},
   "outputs": [],
   "source": [
    "n     = 0           # INPUT => which fitted func to use\n",
    "tenflowcoeff=       # INPUT => what 10 x flow coeff\n",
    "tenworkcoeff=       # INPUT => what 10 x work coeff\n",
    "Effts = fiteffts(tenflowcoeff,tenworkcoeff,n)\n",
    "print(f\"10*flow_coeff = {tenflowcoeff}\")\n",
    "print(f\"10*work_coeff = {tenworkcoeff}\")\n",
    "print(f\"Total-to-Static Efficiency = {Effts}\")"
   ]
  },
  {
   "cell_type": "markdown",
   "metadata": {},
   "source": [
    "##### Get contour plot"
   ]
  },
  {
   "cell_type": "code",
   "execution_count": null,
   "metadata": {},
   "outputs": [],
   "source": [
    "dffitfun = pd.read_excel(os.path.join(ROOT_DIR,\"Inputs\",\"fittedpolycoeffs\",f\"{n}.xlsx\"),engine='openpyxl',skiprows=1,usecols=range(1,7),header=0,index_col=False)\n",
    "dffitfun.tail()"
   ]
  },
  {
   "cell_type": "code",
   "execution_count": null,
   "metadata": {},
   "outputs": [],
   "source": [
    "from ifrturbinepackage.inputs import *\n",
    "print(whichfitfun(0))\n"
   ]
  },
  {
   "cell_type": "code",
   "execution_count": null,
   "metadata": {},
   "outputs": [],
   "source": [
    "n   = 0             # INPUT => which fitted func to plot\n",
    "from ifrturbinepackage.rotor import *\n",
    "import matplotlib.pyplot as plt\n",
    "import numpy as np\n",
    "\n",
    "wcoeff  = np.linspace(4,15,100)\n",
    "fcoeff  = np.linspace(0,4,100)\n",
    "X, Y    = np.meshgrid(fcoeff, wcoeff)\n",
    "Z       = fiteffts(X,Y,n)\n",
    "\n",
    "fig,ax=plt.subplots(1,1)\n",
    "# figure(figsize=(10, 10))\n",
    "plot1 = ax.contourf(X, Y, Z,levels=np.linspace(0,100,20),cmap='plasma')\n",
    "fig.colorbar(plot1) # Add a colorbar to a plot\n",
    "ax.set_title(f\"Efficiency of fitted func {n}\")\n",
    "ax.set_xlabel(\"flow coefficient x10\")\n",
    "ax.set_ylabel(\"work coefficient x10\")\n",
    "plt.show()"
   ]
  },
  {
   "cell_type": "code",
   "execution_count": 1,
   "metadata": {},
   "outputs": [
    {
     "ename": "TypeError",
     "evalue": "'int' object is not iterable",
     "output_type": "error",
     "traceback": [
      "\u001b[1;31m---------------------------------------------------------------------------\u001b[0m",
      "\u001b[1;31mTypeError\u001b[0m                                 Traceback (most recent call last)",
      "\u001b[1;32mx:\\TA-Turbine-Design-13118082\\StoreFit.ipynb Cell 14\u001b[0m in \u001b[0;36m<cell line: 2>\u001b[1;34m()\u001b[0m\n\u001b[0;32m      <a href='vscode-notebook-cell:/x%3A/TA-Turbine-Design-13118082/StoreFit.ipynb#ch0000017?line=0'>1</a>\u001b[0m \u001b[39mfrom\u001b[39;00m \u001b[39mifrturbinepackage\u001b[39;00m\u001b[39m.\u001b[39;00m\u001b[39mrotor\u001b[39;00m \u001b[39mimport\u001b[39;00m \u001b[39m*\u001b[39m\n\u001b[1;32m----> <a href='vscode-notebook-cell:/x%3A/TA-Turbine-Design-13118082/StoreFit.ipynb#ch0000017?line=1'>2</a>\u001b[0m opteffts\u001b[39m=\u001b[39moptfiteffts(\u001b[39m0\u001b[39;49m)\n\u001b[0;32m      <a href='vscode-notebook-cell:/x%3A/TA-Turbine-Design-13118082/StoreFit.ipynb#ch0000017?line=2'>3</a>\u001b[0m \u001b[39mprint\u001b[39m(opteffts)\n",
      "File \u001b[1;32mx:\\TA-Turbine-Design-13118082\\ifrturbinepackage\\rotor.py:776\u001b[0m, in \u001b[0;36moptfiteffts\u001b[1;34m(n)\u001b[0m\n\u001b[0;32m    773\u001b[0m bnds\u001b[39m=\u001b[39m(tenflowb,tenworkb,nb)\n\u001b[0;32m    774\u001b[0m initval\u001b[39m=\u001b[39m[\u001b[39m2.0\u001b[39m,\u001b[39m10.0\u001b[39m,n]\n\u001b[1;32m--> 776\u001b[0m opteffts\u001b[39m=\u001b[39moptimize\u001b[39m.\u001b[39;49mminimize(mfiteffts,initval,method\u001b[39m=\u001b[39;49m\u001b[39m'\u001b[39;49m\u001b[39mSLSQP\u001b[39;49m\u001b[39m'\u001b[39;49m,bounds\u001b[39m=\u001b[39;49mbnds)\n\u001b[0;32m    777\u001b[0m \u001b[39mreturn\u001b[39;00m opteffts\n",
      "File \u001b[1;32mx:\\TA-Turbine-Design-13118082\\venv\\TA-Turbine-Design\\lib\\site-packages\\scipy\\optimize\\_minimize.py:635\u001b[0m, in \u001b[0;36mminimize\u001b[1;34m(fun, x0, args, method, jac, hess, hessp, bounds, constraints, tol, callback, options)\u001b[0m\n\u001b[0;32m    625\u001b[0m \u001b[39mif\u001b[39;00m bounds \u001b[39mis\u001b[39;00m \u001b[39mnot\u001b[39;00m \u001b[39mNone\u001b[39;00m:\n\u001b[0;32m    626\u001b[0m     \u001b[39mif\u001b[39;00m meth \u001b[39min\u001b[39;00m {\u001b[39m\"\u001b[39m\u001b[39mtnc\u001b[39m\u001b[39m\"\u001b[39m, \u001b[39m\"\u001b[39m\u001b[39mslsqp\u001b[39m\u001b[39m\"\u001b[39m, \u001b[39m\"\u001b[39m\u001b[39ml-bfgs-b\u001b[39m\u001b[39m\"\u001b[39m}:\n\u001b[0;32m    627\u001b[0m         \u001b[39m# These methods can't take the finite-difference derivatives they\u001b[39;00m\n\u001b[0;32m    628\u001b[0m         \u001b[39m# need when a variable is fixed by the bounds. To avoid this issue,\u001b[39;00m\n\u001b[1;32m   (...)\u001b[0m\n\u001b[0;32m    633\u001b[0m \n\u001b[0;32m    634\u001b[0m         \u001b[39m# convert to new-style bounds so we only have to consider one case\u001b[39;00m\n\u001b[1;32m--> 635\u001b[0m         bounds \u001b[39m=\u001b[39m standardize_bounds(bounds, x0, \u001b[39m'\u001b[39;49m\u001b[39mnew\u001b[39;49m\u001b[39m'\u001b[39;49m)\n\u001b[0;32m    637\u001b[0m         \u001b[39m# determine whether any variables are fixed\u001b[39;00m\n\u001b[0;32m    638\u001b[0m         i_fixed \u001b[39m=\u001b[39m (bounds\u001b[39m.\u001b[39mlb \u001b[39m==\u001b[39m bounds\u001b[39m.\u001b[39mub)\n",
      "File \u001b[1;32mx:\\TA-Turbine-Design-13118082\\venv\\TA-Turbine-Design\\lib\\site-packages\\scipy\\optimize\\_minimize.py:936\u001b[0m, in \u001b[0;36mstandardize_bounds\u001b[1;34m(bounds, x0, meth)\u001b[0m\n\u001b[0;32m    934\u001b[0m \u001b[39mif\u001b[39;00m meth \u001b[39min\u001b[39;00m {\u001b[39m'\u001b[39m\u001b[39mtrust-constr\u001b[39m\u001b[39m'\u001b[39m, \u001b[39m'\u001b[39m\u001b[39mpowell\u001b[39m\u001b[39m'\u001b[39m, \u001b[39m'\u001b[39m\u001b[39mnelder-mead\u001b[39m\u001b[39m'\u001b[39m, \u001b[39m'\u001b[39m\u001b[39mnew\u001b[39m\u001b[39m'\u001b[39m}:\n\u001b[0;32m    935\u001b[0m     \u001b[39mif\u001b[39;00m \u001b[39mnot\u001b[39;00m \u001b[39misinstance\u001b[39m(bounds, Bounds):\n\u001b[1;32m--> 936\u001b[0m         lb, ub \u001b[39m=\u001b[39m old_bound_to_new(bounds)\n\u001b[0;32m    937\u001b[0m         bounds \u001b[39m=\u001b[39m Bounds(lb, ub)\n\u001b[0;32m    938\u001b[0m \u001b[39melif\u001b[39;00m meth \u001b[39min\u001b[39;00m (\u001b[39m'\u001b[39m\u001b[39ml-bfgs-b\u001b[39m\u001b[39m'\u001b[39m, \u001b[39m'\u001b[39m\u001b[39mtnc\u001b[39m\u001b[39m'\u001b[39m, \u001b[39m'\u001b[39m\u001b[39mslsqp\u001b[39m\u001b[39m'\u001b[39m, \u001b[39m'\u001b[39m\u001b[39mold\u001b[39m\u001b[39m'\u001b[39m):\n",
      "File \u001b[1;32mx:\\TA-Turbine-Design-13118082\\venv\\TA-Turbine-Design\\lib\\site-packages\\scipy\\optimize\\_constraints.py:325\u001b[0m, in \u001b[0;36mold_bound_to_new\u001b[1;34m(bounds)\u001b[0m\n\u001b[0;32m    316\u001b[0m \u001b[39mdef\u001b[39;00m \u001b[39mold_bound_to_new\u001b[39m(bounds):\n\u001b[0;32m    317\u001b[0m     \u001b[39m\"\"\"Convert the old bounds representation to the new one.\u001b[39;00m\n\u001b[0;32m    318\u001b[0m \n\u001b[0;32m    319\u001b[0m \u001b[39m    The new representation is a tuple (lb, ub) and the old one is a list\u001b[39;00m\n\u001b[1;32m   (...)\u001b[0m\n\u001b[0;32m    323\u001b[0m \u001b[39m    -np.inf/np.inf.\u001b[39;00m\n\u001b[0;32m    324\u001b[0m \u001b[39m    \"\"\"\u001b[39;00m\n\u001b[1;32m--> 325\u001b[0m     lb, ub \u001b[39m=\u001b[39m \u001b[39mzip\u001b[39;49m(\u001b[39m*\u001b[39;49mbounds)\n\u001b[0;32m    327\u001b[0m     \u001b[39m# Convert occurrences of None to -inf or inf, and replace occurrences of\u001b[39;00m\n\u001b[0;32m    328\u001b[0m     \u001b[39m# any numpy array x with x.item(). Then wrap the results in numpy arrays.\u001b[39;00m\n\u001b[0;32m    329\u001b[0m     lb \u001b[39m=\u001b[39m np\u001b[39m.\u001b[39marray([\u001b[39mfloat\u001b[39m(_arr_to_scalar(x)) \u001b[39mif\u001b[39;00m x \u001b[39mis\u001b[39;00m \u001b[39mnot\u001b[39;00m \u001b[39mNone\u001b[39;00m \u001b[39melse\u001b[39;00m \u001b[39m-\u001b[39mnp\u001b[39m.\u001b[39minf\n\u001b[0;32m    330\u001b[0m                    \u001b[39mfor\u001b[39;00m x \u001b[39min\u001b[39;00m lb])\n",
      "\u001b[1;31mTypeError\u001b[0m: 'int' object is not iterable"
     ]
    }
   ],
   "source": [
    "from ifrturbinepackage.rotor import *\n",
    "opteffts=optfiteffts(0)\n",
    "print(opteffts)"
   ]
  }
 ],
 "metadata": {
  "kernelspec": {
   "display_name": "Python 3.10.5 ('TA-Turbine-Design': venv)",
   "language": "python",
   "name": "python3"
  },
  "language_info": {
   "codemirror_mode": {
    "name": "ipython",
    "version": 3
   },
   "file_extension": ".py",
   "mimetype": "text/x-python",
   "name": "python",
   "nbconvert_exporter": "python",
   "pygments_lexer": "ipython3",
   "version": "3.10.5"
  },
  "orig_nbformat": 4,
  "vscode": {
   "interpreter": {
    "hash": "d80a3ac338e464385995b106dc74eeba1cbeef0a960949e867e48dbfbca8f3d8"
   }
  }
 },
 "nbformat": 4,
 "nbformat_minor": 2
}
