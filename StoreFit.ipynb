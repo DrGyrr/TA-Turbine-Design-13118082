{
 "cells": [
  {
   "cell_type": "markdown",
   "metadata": {},
   "source": [
    "#### Store polynom coeffs for fitted func\n",
    "\n",
    "You can store polynomial func coeffs you got from fitted func.  \n",
    "Polynomial coeffs will be stored in a xlsx file in folder  \n",
    "\n",
    ">>> /Inputs/fittedpolycoeffs/n.xlsx\n",
    "\n",
    "with n as number assigned to each fitted func (pick however you like)\n"
   ]
  },
  {
   "cell_type": "markdown",
   "metadata": {},
   "source": [
    "/////////////////////////////////////  \n",
    "assign the polynomisl coeffs to **`p[i][j]`** like this,\n",
    "\n",
    "![](pasteImage/2022-08-03-00-23-44.png)\n",
    "\n",
    "where i is index of power of flow coeffs and j is index of power of work coeffs"
   ]
  },
  {
   "cell_type": "code",
   "execution_count": null,
   "metadata": {},
   "outputs": [],
   "source": [
    "import numpy as np\n",
    "from datetime import datetime\n",
    "\n",
    "# input \n",
    "n = 0    # => INPUT which number to assign to saved .csv\n",
    "cyclenum =0      # => INPUT for which cycle number this is\n",
    "gparamsetnum =0      # => INPUT which gparamset was used\n",
    "rpm = 30000\n",
    "whichcomputeR =0 \n",
    "now=datetime.now()\n",
    "inputtime= now.strftime(\"%d-%m-%Y %H:%M\")\n",
    "# careful not to assign used n as it would overwrite csv already stored csv\n",
    "global p\n",
    "p = np.zeros(shape=(6,6))\n",
    "# assign i and j \n",
    "# example :\n",
    "p[0][0] =      -285.9\n",
    "p[1][0] =       -56.2\n",
    "p[0][1] =       162.2\n",
    "p[2][0] =      -89.08\n",
    "p[1][1] =       37.96\n",
    "p[0][2] =      -29.07\n",
    "p[3][0] =      -55.04\n",
    "p[2][1] =       50.69\n",
    "p[1][2] =      -12.32\n",
    "p[0][3] =       3.039\n",
    "p[4][0] =      -7.265\n",
    "p[3][1] =       15.04\n",
    "p[2][2] =      -8.523\n",
    "p[1][3] =       1.677\n",
    "p[0][4] =     -0.1986\n",
    "p[5][0] =      0.5554\n",
    "p[4][1] =     -0.2706\n",
    "p[3][2] =      -0.361\n",
    "p[2][3] =      0.2681\n",
    "p[1][4] =    -0.05467\n",
    "p[0][5] =    0.005047\n",
    "# //// \\\\\\\\\n",
    "\n",
    "\n"
   ]
  },
  {
   "cell_type": "markdown",
   "metadata": {},
   "source": [
    "run cell below to store p into new **`n.xlsx`**"
   ]
  },
  {
   "cell_type": "code",
   "execution_count": null,
   "metadata": {},
   "outputs": [],
   "source": [
    "import shutil\n",
    "from ifrturbinepackage.definitions import *\n",
    "import os\n",
    "import pandas as pd\n",
    "from openpyxl import load_workbook\n",
    "from datetime import datetime\n",
    "\n",
    "template = os.path.join(ROOT_DIR,\"Inputs\",\"fittedpolycoeffs\",\"template.xlsx\")\n",
    "new = os.path.join(ROOT_DIR,\"Inputs\",\"fittedpolycoeffs\",f\"{n}.xlsx\")\n",
    "shutil.copyfile(template,new)\n",
    "dfcoeff=pd.DataFrame(p)\n",
    "dfcoeff.head()\n",
    "# writer= pd.ExcelWriter(new, engine='openpyxl')\n",
    "wb  =load_workbook(new)\n",
    "ws  = wb['COEFFS']\n",
    "for i in range(0,6):\n",
    "    for j in range(0,6):\n",
    "        ws.cell(i+3,j+2).value=p[i][j]\n",
    "        \n",
    "ws  = wb['INFO']\n",
    "j=0\n",
    "for i in [cyclenum,gparamsetnum,rpm,whichcomputeR,inputtime]:\n",
    "    j=j+1\n",
    "    ws.cell(2,j).value=i\n",
    "wb.save(new)"
   ]
  },
  {
   "cell_type": "markdown",
   "metadata": {},
   "source": [
    "#### Get Eff & Visualize fitted functions in contour plot\n",
    "\n",
    "you can get fitted efficiency value for specific `[flow coeff,work coeff]` and also plot any stored fitted functions in contour plot.  \n",
    "*You don't have to run previous cells if you have already stored it before. Just input value `n` in cells below*"
   ]
  },
  {
   "cell_type": "markdown",
   "metadata": {},
   "source": [
    "##### Get Eff"
   ]
  },
  {
   "cell_type": "code",
   "execution_count": null,
   "metadata": {},
   "outputs": [],
   "source": [
    "from ifrturbinepackage.inputs import *\n",
    "from ifrturbinepackage.rotor import *\n",
    "from ifrturbinepackage.definitions import *\n",
    "import numpy as np\n",
    "import matplotlib.pyplot as plt"
   ]
  },
  {
   "cell_type": "code",
   "execution_count": null,
   "metadata": {},
   "outputs": [],
   "source": [
    "n     = 0           # INPUT => which fitted func to use\n",
    "tenflowcoeff=       # INPUT => what 10 x flow coeff\n",
    "tenworkcoeff=       # INPUT => what 10 x work coeff\n",
    "Effts = fiteffts(tenflowcoeff,tenworkcoeff,n)\n",
    "print(f\"10*flow_coeff = {tenflowcoeff}\")\n",
    "print(f\"10*work_coeff = {tenworkcoeff}\")\n",
    "print(f\"Total-to-Static Efficiency = {Effts}\")"
   ]
  },
  {
   "cell_type": "markdown",
   "metadata": {},
   "source": [
    "##### Get contour plot"
   ]
  },
  {
   "cell_type": "code",
   "execution_count": null,
   "metadata": {},
   "outputs": [],
   "source": [
    "dffitfun = pd.read_excel(os.path.join(ROOT_DIR,\"Inputs\",\"fittedpolycoeffs\",f\"{n}.xlsx\"),engine='openpyxl',skiprows=1,usecols=range(1,7),header=0,index_col=False)\n",
    "dffitfun.tail()"
   ]
  },
  {
   "cell_type": "code",
   "execution_count": null,
   "metadata": {},
   "outputs": [],
   "source": [
    "from ifrturbinepackage.inputs import *\n",
    "print(whichfitfun(0))\n"
   ]
  },
  {
   "cell_type": "code",
   "execution_count": 1,
   "metadata": {},
   "outputs": [
    {
     "data": {
      "image/png": "[encoded data removed]",
      "text/plain": [
       "<Figure size 432x288 with 2 Axes>"
      ]
     },
     "metadata": {
      "needs_background": "light"
     },
     "output_type": "display_data"
    }
   ],
   "source": [
    "n   = 0             # INPUT => which fitted func to plot\n",
    "from ifrturbinepackage.rotor import *\n",
    "import matplotlib.pyplot as plt\n",
    "import numpy as np\n",
    "\n",
    "wcoeff  = np.linspace(4,15,100)\n",
    "fcoeff  = np.linspace(0,4,100)\n",
    "X, Y    = np.meshgrid(fcoeff, wcoeff)\n",
    "Z       = fiteffts(X,Y,n)\n",
    "\n",
    "fig,ax=plt.subplots(1,1)\n",
    "# figure(figsize=(10, 10))\n",
    "plot1 = ax.contourf(X, Y, Z,levels=np.linspace(0,100,20),cmap='plasma')\n",
    "fig.colorbar(plot1) # Add a colorbar to a plot\n",
    "ax.set_title(f\"Efficiency of fitted func {n}\")\n",
    "ax.set_xlabel(\"flow coefficient x10\")\n",
    "ax.set_ylabel(\"work coefficient x10\")\n",
    "plt.show()"
   ]
  }
 ],
 "metadata": {
  "kernelspec": {
   "display_name": "Python 3.10.5 ('ifrvenv': venv)",
   "language": "python",
   "name": "python3"
  },
  "language_info": {
   "codemirror_mode": {
    "name": "ipython",
    "version": 3
   },
   "file_extension": ".py",
   "mimetype": "text/x-python",
   "name": "python",
   "nbconvert_exporter": "python",
   "pygments_lexer": "ipython3",
   "version": "3.10.5"
  },
  "orig_nbformat": 4,
  "vscode": {
   "interpreter": {
    "hash": "1e752cfb7f6dadf51eebad56247554a6ca562cae379904bfe225e9f7ab5ccdf7"
   }
  }
 },
 "nbformat": 4,
 "nbformat_minor": 2
}
