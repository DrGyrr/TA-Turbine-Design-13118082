{
 "cells": [
  {
   "cell_type": "markdown",
   "metadata": {},
   "source": []
  },
  {
   "cell_type": "code",
   "execution_count": 2,
   "metadata": {},
   "outputs": [],
   "source": [
    "import numpy as np\n",
    "from CoolProp.CoolProp import PropsSI as Props"
   ]
  },
  {
   "cell_type": "code",
   "execution_count": 3,
   "metadata": {},
   "outputs": [],
   "source": [
    "P_1 = 3714700.0\n",
    "T_1 = 353\n",
    "fluid = 'R32'\n",
    "S_1 = Props('S','P',P_1,'T',T_1,fluid)\n",
    "H_1 = Props('H','P',P_1,'T',T_1,fluid)"
   ]
  },
  {
   "cell_type": "code",
   "execution_count": 9,
   "metadata": {},
   "outputs": [
    {
     "name": "stdout",
     "output_type": "stream",
     "text": [
      "H_5 = 528968.5268288866, h6 = 528630.5268288866\n",
      "2260664.703558236\n"
     ]
    }
   ],
   "source": [
    "p5 = 2281138\n",
    "H_5 = Props('H','P',2281138,'S',S_1,fluid)\n",
    "h6 = H_5 - 1/2*26**2\n",
    "print(f'H_5 = {H_5}, h6 = {h6}')\n",
    "p6 = Props('P','H',h6,'S',S_1,fluid)\n",
    "\n",
    "print(p6)\n"
   ]
  },
  {
   "cell_type": "code",
   "execution_count": null,
   "metadata": {},
   "outputs": [],
   "source": [
    "r5 = 0.014395927549713182\n",
    "b5 = 0.013792198067182737\n",
    "A5 = 2*np.pi * r5*b5\n",
    "rho5 = 60.6\n",
    "Cm5 = 26.7\n",
    "\n",
    "Cm6target = 5\n",
    "h6tar = H_5 - 1/2 * Cm6target**2\n"
   ]
  },
  {
   "cell_type": "code",
   "execution_count": 25,
   "metadata": {},
   "outputs": [
    {
     "name": "stdout",
     "output_type": "stream",
     "text": [
      "2946045.3922834676\n"
     ]
    }
   ],
   "source": [
    "pstatic = Props('P','H',H_1-1/2*135.17**2,'S',S_1,fluid)\n",
    "print(pstatic)"
   ]
  },
  {
   "cell_type": "code",
   "execution_count": 3,
   "metadata": {},
   "outputs": [],
   "source": [
    "r4      = 50 * 1e-3\n",
    "Ct4     = 158.27\n",
    "rho4s   = 70.2\n",
    "\n",
    "b4      = 6.3 * 1e-3\n",
    "b3      = b4\n",
    "mf      = 2\n",
    "tb      = 1 * 1e-3\n",
    "Nn      = 10 + 1\n",
    "Alpha4  = 1.478716083617504\n",
    "r3_r4 = 1.175 # dari dixon, a bit too big?"
   ]
  },
  {
   "cell_type": "code",
   "execution_count": 50,
   "metadata": {},
   "outputs": [
    {
     "data": {
      "text/plain": [
       "92.86443533615005"
      ]
     },
     "execution_count": 50,
     "metadata": {},
     "output_type": "execute_result"
    }
   ],
   "source": []
  },
  {
   "cell_type": "code",
   "execution_count": 4,
   "metadata": {},
   "outputs": [
    {
     "name": "stdout",
     "output_type": "stream",
     "text": [
      "r3 = 58.75000000000001mm, Ct3 = 134.69787234042553 m/s\n"
     ]
    }
   ],
   "source": [
    "r3  = r3_r4 * r4\n",
    "Ct3 = Ct4 * r4/r3\n",
    "print(f'r3 = {r3 * 1e3}mm, Ct3 = {Ct3} m/s')"
   ]
  },
  {
   "cell_type": "code",
   "execution_count": 16,
   "metadata": {},
   "outputs": [
    {
     "name": "stdout",
     "output_type": "stream",
     "text": [
      "Alpha3 initial guess = 84.7241906893971 deg\n"
     ]
    }
   ],
   "source": [
    "Alpha3 = np.degrees(Alpha4) # deg initial guess. \n",
    "itera = 0\n",
    "rho3    = rho4s # initial guess\n",
    "print(f'Alpha3 initial guess = {Alpha3} deg')"
   ]
  },
  {
   "cell_type": "code",
   "execution_count": 26,
   "metadata": {},
   "outputs": [
    {
     "name": "stdout",
     "output_type": "stream",
     "text": [
      "iteration 4\n",
      "bK3 = 0.0002980926001091388\n",
      "C3 = 135.17384202559967\n",
      "rho3 = 75.90368427956645\n",
      "Cm3 = 11.333611733432411m/s\n",
      "Alpha3 = 85.19040546430199 deg\n"
     ]
    }
   ],
   "source": [
    "# run this block multiple times to iterate\n",
    "itera = itera +1\n",
    "print(f'iteration {itera}')\n",
    "bK3 = 0.01 * tb*Nn/(2*np.pi*r3*np.cos(np.radians(Alpha3))) # shouldn't be big because of the rounded tip\n",
    "print(f'bK3 = {bK3}')\n",
    "Cm3  = mf/(2*np.pi*r3*b3*rho3*(1-bK3))\n",
    "C3   = np.sqrt(Cm3**2 + Ct3**2)\n",
    "print(f'C3 = {C3}')\n",
    "h3   = H_1 - 1/2 * C3**2\n",
    "rho3 = Props('D','H',h3,'S',S_1,fluid)\n",
    "Props('S','P',P_1,'T',T_1,fluid)\n",
    "print(f'rho3 = {rho3}')\n",
    "print(f'Cm3 = {Cm3}m/s')\n",
    "s3  = 2*np.pi*r3/Nn\n",
    "o3  = s3* Cm3/(np.sqrt(Cm3**2 + Ct3**2))\n",
    "Alpha3 = np.arccos(o3/s3)\n",
    "print(f'Alpha3 = {np.degrees(Alpha3)} deg')"
   ]
  },
  {
   "cell_type": "code",
   "execution_count": 11,
   "metadata": {},
   "outputs": [
    {
     "data": {
      "text/plain": [
       "135.17384202361782"
      ]
     },
     "execution_count": 11,
     "metadata": {},
     "output_type": "execute_result"
    }
   ],
   "source": []
  },
  {
   "cell_type": "code",
   "execution_count": 11,
   "metadata": {},
   "outputs": [
    {
     "name": "stdout",
     "output_type": "stream",
     "text": [
      "9.308312709432055\n"
     ]
    }
   ],
   "source": [
    "Alpha2 =90-21 #deg\n",
    "r2 = 72 *1e-3\n",
    "bK2 = tb*0.01*Nn/(2*np.pi*r2*np.cos(np.radians(Alpha2)))\n",
    "Cm2 = r3/r2 * Cm3 * (1-bK3)/(1-bK2)\n",
    "print(Cm2)"
   ]
  },
  {
   "cell_type": "code",
   "execution_count": 12,
   "metadata": {},
   "outputs": [
    {
     "name": "stdout",
     "output_type": "stream",
     "text": [
      "24.24898365009177\n"
     ]
    }
   ],
   "source": [
    "Ct2 = Cm2 * np.tan(np.radians(Alpha2))\n",
    "print(Ct2)"
   ]
  },
  {
   "cell_type": "code",
   "execution_count": 16,
   "metadata": {},
   "outputs": [],
   "source": [
    "AR  = 1\n",
    "Vaneless12 = 2 * 1e-3\n",
    "vB0  = 0.1 *1e-3 # initial\n",
    "errvB = 1\n",
    "numdiv = 9\n",
    "itera = 0"
   ]
  },
  {
   "cell_type": "code",
   "execution_count": 17,
   "metadata": {},
   "outputs": [
    {
     "name": "stdout",
     "output_type": "stream",
     "text": [
      "Theta = 0.0\n",
      "vB = 0.0\n",
      "23.56176548996771\n",
      "--- --- --- --- --- --- --- --- ---\n",
      "Theta = 40.0\n",
      "vB = 0.005920213382486253\n",
      "21.845872992201073\n",
      "--- --- --- --- --- --- --- --- ---\n",
      "Theta = 80.0\n",
      "vB = 0.008505418194155826\n",
      "21.161359630522\n",
      "--- --- --- --- --- --- --- --- ---\n",
      "Theta = 120.0\n",
      "vB = 0.010543627947430585\n",
      "20.65119367154065\n",
      "--- --- --- --- --- --- --- --- ---\n",
      "Theta = 160.0\n",
      "vB = 0.012299349876445978\n",
      "20.231054201405275\n",
      "--- --- --- --- --- --- --- --- ---\n",
      "Theta = 200.0\n",
      "vB = 0.013874954528972767\n",
      "19.868309883150808\n",
      "--- --- --- --- --- --- --- --- ---\n",
      "Theta = 240.0\n",
      "vB = 0.015322902473665113\n",
      "19.546239359229624\n",
      "--- --- --- --- --- --- --- --- ---\n",
      "Theta = 280.0\n",
      "vB = 0.01667433343349983\n",
      "19.254917822279328\n",
      "--- --- --- --- --- --- --- --- ---\n",
      "Theta = 320.0\n",
      "vB = 0.017949520948794765\n",
      "18.98788412008223\n",
      "--- --- --- --- --- --- --- --- ---\n",
      "Theta = 360.0\n",
      "vB = 0.019162536387083116\n",
      "18.740653641743048\n",
      "--- --- --- --- --- --- --- --- ---\n"
     ]
    }
   ],
   "source": [
    "for i in range(numdiv+1):\n",
    "    \n",
    "    mflowvol = mf * i/numdiv\n",
    "    itera   = 0\n",
    "    vB      = vB0\n",
    "    errvB   = 100\n",
    "    while errvB > 1e-7:\n",
    "        itera   = itera +1\n",
    "        vBprev  = vB\n",
    "        r1      = r2 + Vaneless12 + vB\n",
    "        C1      = Ct2 * r2/r1\n",
    "        h1      = H_1 - 1/2 *C1**2\n",
    "        rho1    = Props('D','H',h1,'S',S_1,fluid)\n",
    "        # vB      = np.sqrt(  (3/4*np.pi + 1)**(-1) * mflowvol/(rho1*C1)    )\n",
    "        vB      = np.sqrt(  (np.pi)**(-1) * mflowvol/(rho1*C1)    )\n",
    "        errvB   = (vB-vBprev)/vBprev\n",
    "    \n",
    "    print(f'Theta = {360 * i/numdiv}')\n",
    "    print(f'vB = {np.sqrt(  (np.pi)**(-1) * mflowvol/(rho1*C1)    )}')\n",
    "    print(C1)\n",
    "    print('--- --- --- --- --- --- --- --- ---')\n"
   ]
  },
  {
   "cell_type": "code",
   "execution_count": 30,
   "metadata": {},
   "outputs": [
    {
     "name": "stdout",
     "output_type": "stream",
     "text": [
      "Theta = 15\n",
      "vB = 0.003572295212502422\n",
      "22.507092493482467\n",
      "--- --- --- --- --- --- --- --- ---\n"
     ]
    }
   ],
   "source": [
    "# for near 0 deg\n",
    "itera   = 0\n",
    "vB      = vB0\n",
    "errvB   = 100\n",
    "thet    = 15\n",
    "while errvB > 1e-7:\n",
    "    itera   = itera +1\n",
    "    vBprev  = vB\n",
    "    r1      = r2 + Vaneless12 + vB\n",
    "    C1      = Ct2 * r2/r1\n",
    "    h1      = H_1 - 1/2 *C1**2\n",
    "    rho1    = Props('D','H',h1,'S',S_1,fluid)\n",
    "    # vB      = np.sqrt(  (3/4*np.pi + 1)**(-1) * mflowvol/(rho1*C1)    )\n",
    "    vB      = np.sqrt(  (np.pi)**(-1) * (mf * thet/360)/(rho1*C1)    )\n",
    "    errvB   = (vB-vBprev)/vBprev\n",
    "\n",
    "print(f'Theta = {thet}')\n",
    "print(f'vB = {np.sqrt(  (np.pi)**(-1) * (mf * thet/360)/(rho1*C1)    )}')\n",
    "print(C1)\n",
    "print('--- --- --- --- --- --- --- --- ---')\n"
   ]
  },
  {
   "cell_type": "code",
   "execution_count": 53,
   "metadata": {},
   "outputs": [
    {
     "name": "stdout",
     "output_type": "stream",
     "text": [
      "0.0005746104076365832\n"
     ]
    }
   ],
   "source": [
    "# dari file lama, tidak perlu di run. Hanya untuk bacaan \n",
    "# INPUT => fluid,r2,r3,Cm3,Betha2,H_1,T_1,P_1,mflow\n",
    "\n",
    "AR=1\n",
    "Vaneless=0.002\n",
    "vB=0.001\n",
    "vA=AR*vB\n",
    "r1=r2 + vA + Vaneless\n",
    "C1= Ct2 * r2/r1\n",
    "h1= H_1 - 1/2* C1**2\n",
    "rmax=r1+vB\n",
    "A1=(3/4*np.pi+1)*vA*vB\n",
    "rho1 = Props('D','T',T_1,'P',P_1*1e6,fluid)\n",
    "A1i=mflow/(rho1*C1)\n",
    "vBi=A1i/(3/4*np.pi+1)/vA\n",
    "ErrorA1=abs(A1-A1i)\n",
    "itera=0\n",
    "# print(A1N,A1iN,C1,ErrorA1,ErrorPercent)\n",
    "while ErrorA1 > 10e-7:\n",
    "    vB=vB+(vBi-vB)/2\n",
    "    vA=AR*vB\n",
    "    r1=r2+vA+Vaneless\n",
    "    C1=Ct2*r2/r1\n",
    "    h1=H_1-1/2*C1**2\n",
    "    rmax=r1+vB\n",
    "    A1=(3/4*np.pi+1)*vA*vB\n",
    "    A1i=mflow/rho1*C1\n",
    "    vBi=A1i/(3/4*np.pi+1)/vA\n",
    "    ErrorA1=np.abs(A1-A1i)\n",
    "    itera=itera+1\n",
    "    #print(ErrorA1/A1*100)\n",
    "    # if ErrorA1 <= 10e-7:  \n",
    "    #     print(ErrorA1/A1*100)\n",
    "    #     break\n",
    "print(ErrorA1/A1*100)\n",
    "# OUTPUT => return(vA,vB,r1)"
   ]
  },
  {
   "cell_type": "code",
   "execution_count": null,
   "metadata": {},
   "outputs": [],
   "source": [
    "AR = 1\n",
    "Vaneless = 2 * 1e-3"
   ]
  },
  {
   "cell_type": "code",
   "execution_count": 63,
   "metadata": {},
   "outputs": [
    {
     "name": "stdout",
     "output_type": "stream",
     "text": [
      "0.03605065542335908\n"
     ]
    }
   ],
   "source": [
    "vA = np.sqrt( mflow/(rho1*C1)/(3/4*np.pi+1))\n",
    "print(vA)"
   ]
  },
  {
   "cell_type": "code",
   "execution_count": 69,
   "metadata": {},
   "outputs": [
    {
     "name": "stdout",
     "output_type": "stream",
     "text": [
      "Theta = 45.0 degree\n",
      "vA = 12.745831458038396 mm\n",
      "-------------------------------\n",
      "Theta = 90.0 degree\n",
      "vA = 18.025327711679537 mm\n",
      "-------------------------------\n",
      "Theta = 135.0 degree\n",
      "vA = 22.076427670032203 mm\n",
      "-------------------------------\n",
      "Theta = 180.0 degree\n",
      "vA = 25.49166291607679 mm\n",
      "-------------------------------\n",
      "Theta = 225.0 degree\n",
      "vA = 28.50054556992911 mm\n",
      "-------------------------------\n",
      "Theta = 270.0 degree\n",
      "vA = 31.22078341970821 mm\n",
      "-------------------------------\n",
      "Theta = 315.0 degree\n",
      "vA = 33.722300290713385 mm\n",
      "-------------------------------\n",
      "Theta = 360.0 degree\n",
      "vA = 36.050655423359075 mm\n",
      "-------------------------------\n"
     ]
    }
   ],
   "source": [
    "numdiv=8\n",
    "for i in range(numdiv):\n",
    "    \n",
    "    print(f'Theta = {(i)/numdiv*360} degree')\n",
    "    print(f'vA = {np.sqrt( mflow * (i+1)/numdiv /(rho1*C1)/(3/4*np.pi+1))*1000} mm')\n",
    "    print(f'-------------------------------')"
   ]
  }
 ],
 "metadata": {
  "kernelspec": {
   "display_name": "Python 3",
   "language": "python",
   "name": "python3"
  },
  "language_info": {
   "codemirror_mode": {
    "name": "ipython",
    "version": 3
   },
   "file_extension": ".py",
   "mimetype": "text/x-python",
   "name": "python",
   "nbconvert_exporter": "python",
   "pygments_lexer": "ipython3",
   "version": "3.10.5 (tags/v3.10.5:f377153, Jun  6 2022, 16:14:13) [MSC v.1929 64 bit (AMD64)]"
  },
  "orig_nbformat": 4,
  "vscode": {
   "interpreter": {
    "hash": "1e752cfb7f6dadf51eebad56247554a6ca562cae379904bfe225e9f7ab5ccdf7"
   }
  }
 },
 "nbformat": 4,
 "nbformat_minor": 2
}
