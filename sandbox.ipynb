{
 "cells": [
  {
   "cell_type": "code",
   "execution_count": 19,
   "metadata": {},
   "outputs": [
    {
     "name": "stdout",
     "output_type": "stream",
     "text": [
      "x:\\TA-Turbine-Design-13118082\n",
      "x:\\TA-Turbine-Design-13118082\\Inputs\\cyclelist.csv\n"
     ]
    },
    {
     "data": {
      "text/html": [
       "<div>\n",
       "<style scoped>\n",
       "    .dataframe tbody tr th:only-of-type {\n",
       "        vertical-align: middle;\n",
       "    }\n",
       "\n",
       "    .dataframe tbody tr th {\n",
       "        vertical-align: top;\n",
       "    }\n",
       "\n",
       "    .dataframe thead th {\n",
       "        text-align: right;\n",
       "    }\n",
       "</style>\n",
       "<table border=\"1\" class=\"dataframe\">\n",
       "  <thead>\n",
       "    <tr style=\"text-align: right;\">\n",
       "      <th></th>\n",
       "      <th>Unnamed: 0</th>\n",
       "      <th>fluid</th>\n",
       "      <th>T_1</th>\n",
       "      <th>P_1</th>\n",
       "      <th>T_5</th>\n",
       "      <th>P_5</th>\n",
       "      <th>mflow</th>\n",
       "    </tr>\n",
       "  </thead>\n",
       "  <tbody>\n",
       "    <tr>\n",
       "      <th>0</th>\n",
       "      <td>1</td>\n",
       "      <td>R245fa</td>\n",
       "      <td>360.0</td>\n",
       "      <td>0.9</td>\n",
       "      <td>335.4</td>\n",
       "      <td>0.4</td>\n",
       "      <td>0.5</td>\n",
       "    </tr>\n",
       "    <tr>\n",
       "      <th>1</th>\n",
       "      <td>2</td>\n",
       "      <td>NaN</td>\n",
       "      <td>NaN</td>\n",
       "      <td>NaN</td>\n",
       "      <td>NaN</td>\n",
       "      <td>NaN</td>\n",
       "      <td>NaN</td>\n",
       "    </tr>\n",
       "    <tr>\n",
       "      <th>2</th>\n",
       "      <td>3</td>\n",
       "      <td>NaN</td>\n",
       "      <td>NaN</td>\n",
       "      <td>NaN</td>\n",
       "      <td>NaN</td>\n",
       "      <td>NaN</td>\n",
       "      <td>NaN</td>\n",
       "    </tr>\n",
       "    <tr>\n",
       "      <th>3</th>\n",
       "      <td>4</td>\n",
       "      <td>NaN</td>\n",
       "      <td>NaN</td>\n",
       "      <td>NaN</td>\n",
       "      <td>NaN</td>\n",
       "      <td>NaN</td>\n",
       "      <td>NaN</td>\n",
       "    </tr>\n",
       "    <tr>\n",
       "      <th>4</th>\n",
       "      <td>5</td>\n",
       "      <td>NaN</td>\n",
       "      <td>NaN</td>\n",
       "      <td>NaN</td>\n",
       "      <td>NaN</td>\n",
       "      <td>NaN</td>\n",
       "      <td>NaN</td>\n",
       "    </tr>\n",
       "  </tbody>\n",
       "</table>\n",
       "</div>"
      ],
      "text/plain": [
       "   Unnamed: 0   fluid    T_1  P_1    T_5  P_5  mflow\n",
       "0           1  R245fa  360.0  0.9  335.4  0.4    0.5\n",
       "1           2     NaN    NaN  NaN    NaN  NaN    NaN\n",
       "2           3     NaN    NaN  NaN    NaN  NaN    NaN\n",
       "3           4     NaN    NaN  NaN    NaN  NaN    NaN\n",
       "4           5     NaN    NaN  NaN    NaN  NaN    NaN"
      ]
     },
     "execution_count": 19,
     "metadata": {},
     "output_type": "execute_result"
    }
   ],
   "source": [
    "import os\n",
    "Rutedir = os.path.dirname(os.path.abspath('__file__'))\n",
    "print(Rutedir)\n",
    "print(os.path.join(Rutedir,\"Inputs\\cyclelist.csv\"))\n",
    "rute=os.path.join(Rutedir,\"Inputs\\cyclelist.csv\")\n",
    "\n",
    "import pandas as pd\n",
    "dftessy=pd.read_csv(rute,skiprows=1,header=0,)\n",
    "dftessy.head()"
   ]
  },
  {
   "cell_type": "code",
   "execution_count": 57,
   "metadata": {},
   "outputs": [
    {
     "name": "stdout",
     "output_type": "stream",
     "text": [
      "x:\\TA-Turbine-Design-13118082\n",
      "[[ 9.  8.  7.  6.  5. 54.]\n",
      " [ 5.  0. nan nan nan nan]\n",
      " [ 4. nan  3. nan nan nan]\n",
      " [77. nan nan nan  3. nan]\n",
      " [ 4. nan nan nan nan  2.]\n",
      " [67. nan nan nan nan 69.]]\n",
      "4623.0\n"
     ]
    }
   ],
   "source": [
    "from definitions import *\n",
    "import numpy as np\n",
    "import pandas as pd\n",
    "print(ROOT_DIR)\n",
    "global p\n",
    "n=0\n",
    "p=np.zeros(shape=(6, 6))\n",
    "dffitfun = pd.read_csv(os.path.join(ROOT_DIR,\"Inputs\",\"fittedpolycoeffs\",f\"{n}.csv\"),skiprows=5,usecols=range(1,7),header=0,index_col=False)\n",
    "dffitfun.tail()\n",
    "for i in range(0,6):\n",
    "    for j in range(0,6):\n",
    "        p[i][j]=dffitfun.iloc[i][j]\n",
    "print(p)\n",
    "print(p[5][0]*p[5][5])"
   ]
  },
  {
   "cell_type": "code",
   "execution_count": 139,
   "metadata": {},
   "outputs": [
    {
     "name": "stdout",
     "output_type": "stream",
     "text": [
      "Rr5r4\n",
      "Rb5b4\n",
      "Rb4r4\n",
      "RZrr4\n",
      "NR\n"
     ]
    }
   ],
   "source": [
    "import pandas as pd\n",
    "import os\n",
    "from ifrturbinepackage.definitions import *\n",
    "import numpy as np\n",
    "# gparamlist=[Rr5r4,Rb5b4,Rb4r4,RZrr4,NR]\n",
    "# i=1\n",
    "# dfgparams=pd.read_csv(os.path.join(ROOT_DIR,\"Inputs\\gparamslist.csv\"),skiprows=1,header=0,index_col=0)\n",
    "# dfgparams.head()\n",
    "gparamlist=[[Rr5r4,'Rr5r4'],[Rb5b4,'Rb5b4'],[Rb4r4,'Rb4r4'],[RZrr4,'RZrr4'],[NR,'NR']]\n",
    "dfgparams=pd.read_csv(os.path.join(ROOT_DIR,\"Inputs\\gparamslist.csv\"),skiprows=1,header=0,index_col=0)\n",
    "dfgparams.head()\n",
    "for x in list(dfgparams.columns):\n",
    "    print(x)\n",
    "# print (np.shape(gparamlist)[0])\n",
    "# k=1\n",
    "# for x in range(np.shape(gparamlist)[0]):\n",
    "#     gparamlist[x][0]=dfgparams.iloc[k-1][gparamlist[x][1]]\n",
    "#     print(gparamlist[x][1],gparamlist[x][0])\n",
    "# print(dfgparams.iloc[])\n",
    "\n",
    "# for x in gparamlist:\n",
    "#     x = dfgparams.iloc[i-1][y]"
   ]
  },
  {
   "cell_type": "code",
   "execution_count": 128,
   "metadata": {},
   "outputs": [
    {
     "ename": "NameError",
     "evalue": "name 'T_5' is not defined",
     "output_type": "error",
     "traceback": [
      "\u001b[1;31m---------------------------------------------------------------------------\u001b[0m",
      "\u001b[1;31mNameError\u001b[0m                                 Traceback (most recent call last)",
      "\u001b[1;32mx:\\TA-Turbine-Design-13118082\\sandbox.ipynb Cell 4\u001b[0m in \u001b[0;36m<cell line: 8>\u001b[1;34m()\u001b[0m\n\u001b[0;32m      <a href='vscode-notebook-cell:/x%3A/TA-Turbine-Design-13118082/sandbox.ipynb#ch0000003?line=4'>5</a>\u001b[0m \u001b[39mfrom\u001b[39;00m \u001b[39mifrturbinepackage\u001b[39;00m\u001b[39m.\u001b[39;00m\u001b[39mvolute\u001b[39;00m \u001b[39mimport\u001b[39;00m \u001b[39m*\u001b[39m\n\u001b[0;32m      <a href='vscode-notebook-cell:/x%3A/TA-Turbine-Design-13118082/sandbox.ipynb#ch0000003?line=6'>7</a>\u001b[0m whichcycle(\u001b[39m10\u001b[39m)\n\u001b[1;32m----> <a href='vscode-notebook-cell:/x%3A/TA-Turbine-Design-13118082/sandbox.ipynb#ch0000003?line=7'>8</a>\u001b[0m \u001b[39mprint\u001b[39m(T_5)\n",
      "\u001b[1;31mNameError\u001b[0m: name 'T_5' is not defined"
     ]
    }
   ],
   "source": [
    "from ifrturbinepackage.definitions import *\n",
    "from ifrturbinepackage.inputs import *\n",
    "from ifrturbinepackage.rotor import *\n",
    "from ifrturbinepackage.nozzle import *\n",
    "from ifrturbinepackage.volute import *\n",
    "\n",
    "whichcycle(10)\n",
    "print(T_5)"
   ]
  },
  {
   "cell_type": "code",
   "execution_count": 134,
   "metadata": {},
   "outputs": [
    {
     "name": "stdout",
     "output_type": "stream",
     "text": [
      "98\n",
      "98 97\n"
     ]
    }
   ],
   "source": [
    "dummydict={'dum':98,'dim':97}\n",
    "print(dummydict['dum'])\n",
    "\n",
    "globals().update(dummydict)\n",
    "print(dum,dim)"
   ]
  },
  {
   "cell_type": "code",
   "execution_count": 1,
   "metadata": {},
   "outputs": [
    {
     "name": "stdout",
     "output_type": "stream",
     "text": [
      "3 7 5\n",
      "1 3\n"
     ]
    },
    {
     "ename": "NameError",
     "evalue": "name 'Cm5' is not defined",
     "output_type": "error",
     "traceback": [
      "\u001b[1;31m---------------------------------------------------------------------------\u001b[0m",
      "\u001b[1;31mNameError\u001b[0m                                 Traceback (most recent call last)",
      "\u001b[1;32mx:\\TA-Turbine-Design-13118082\\sandbox.ipynb Cell 6\u001b[0m in \u001b[0;36m<cell line: 10>\u001b[1;34m()\u001b[0m\n\u001b[0;32m      <a href='vscode-notebook-cell:/x%3A/TA-Turbine-Design-13118082/sandbox.ipynb#ch0000005?line=7'>8</a>\u001b[0m     \u001b[39mlocals\u001b[39m()[translist[i]]\u001b[39m=\u001b[39minlist[i]\n\u001b[0;32m      <a href='vscode-notebook-cell:/x%3A/TA-Turbine-Design-13118082/sandbox.ipynb#ch0000005?line=8'>9</a>\u001b[0m \u001b[39mprint\u001b[39m(Zr,Z5,rh5)\n\u001b[1;32m---> <a href='vscode-notebook-cell:/x%3A/TA-Turbine-Design-13118082/sandbox.ipynb#ch0000005?line=9'>10</a>\u001b[0m dum\u001b[39m=\u001b[39mQuasiNorm(inlist)\n",
      "File \u001b[1;32mx:\\TA-Turbine-Design-13118082\\ifrturbinepackage\\rotor.py:846\u001b[0m, in \u001b[0;36mQuasiNorm\u001b[1;34m(inlist)\u001b[0m\n\u001b[0;32m    841\u001b[0m     mh\u001b[39m.\u001b[39mappend(mh[i]\u001b[39m+\u001b[39m\u001b[39m2\u001b[39m\u001b[39m*\u001b[39m(i)\u001b[39m/\u001b[39m\u001b[39m3\u001b[39m)                                 \u001b[39m#Perbaiki value mh \u001b[39;00m\n\u001b[0;32m    844\u001b[0m \u001b[39m# Zm=(Z-Zh)/2\u001b[39;00m\n\u001b[0;32m    845\u001b[0m \u001b[39m# rm=(r-rh)/2\u001b[39;00m\n\u001b[1;32m--> 846\u001b[0m Betha5  \u001b[39m=\u001b[39m np\u001b[39m.\u001b[39marccos(Cm5\u001b[39m/\u001b[39mW5)\n\u001b[0;32m    847\u001b[0m Betha5s \u001b[39m=\u001b[39m np\u001b[39m.\u001b[39marctan(np\u001b[39m.\u001b[39mtan(Betha5)\u001b[39m/\u001b[39mrs5)\n\u001b[0;32m    848\u001b[0m Betha5h \u001b[39m=\u001b[39m np\u001b[39m.\u001b[39marctan(np\u001b[39m.\u001b[39mtan(Betha5)\u001b[39m/\u001b[39mrh5)\n",
      "\u001b[1;31mNameError\u001b[0m: name 'Cm5' is not defined"
     ]
    }
   ],
   "source": [
    "from ifrturbinepackage.rotor import *\n",
    "inlist=[1,2,3,4,5,6,7]\n",
    "# global Zr\n",
    "# Zr=0.05\n",
    "# dum=QuasiNorm(dumlist)\n",
    "translist=['b4','r4','Zr','rs5','rh5','n','Z5']\n",
    "for i in range(len(translist)):\n",
    "    locals()[translist[i]]=inlist[i]\n",
    "print(Zr,Z5,rh5)\n",
    "dum=QuasiNorm(inlist)"
   ]
  },
  {
   "cell_type": "code",
   "execution_count": 4,
   "metadata": {},
   "outputs": [
    {
     "name": "stdout",
     "output_type": "stream",
     "text": [
      "8\n",
      "7\n"
     ]
    }
   ],
   "source": [
    "zxc='dumvee'\n",
    "locals()[zxc]=8\n",
    "print(dumvee)\n",
    "print(len(dumlist))"
   ]
  },
  {
   "cell_type": "code",
   "execution_count": 33,
   "metadata": {},
   "outputs": [],
   "source": [
    "import numpy as np\n",
    "import scipy as sp\n",
    "import sympy as smp\n"
   ]
  },
  {
   "cell_type": "code",
   "execution_count": 6,
   "metadata": {},
   "outputs": [],
   "source": [
    "r4,rs5,deltzr,b4,z,z5,n = smp.symbols('r4 rs5 deltzr b4 z z5 n', real = True,positive=True)\n",
    "# r = rs5 + (r4-rs5)*((z-z5)/(deltzr-b4))**n\n",
    "drperdz = (r4-rs5)/(deltzr-b4)**n * n * (z-z5)**(n-1)\n",
    "f = smp.sqrt(1+(drperdz)**2)\n",
    "smp.integrate(f,z).simplify"
   ]
  },
  {
   "cell_type": "code",
   "execution_count": 13,
   "metadata": {},
   "outputs": [
    {
     "data": {
      "text/latex": [
       "$\\displaystyle \\frac{\\left(2 n - 1\\right) \\left(z - z_{5}\\right) \\Gamma\\left(1 + \\frac{1}{2 \\left(n - 1\\right)}\\right) {{}_{2}F_{1}\\left(\\begin{matrix} - \\frac{1}{2}, \\frac{1}{2 \\left(n - 1\\right)} \\\\ \\frac{2 n - 1}{2 \\left(n - 1\\right)} \\end{matrix}\\middle| {A^{2} n^{2} \\left(z - z_{5}\\right)^{2 n - 2} e^{i \\pi}} \\right)}}{2 \\left(n - 1\\right) \\Gamma\\left(\\frac{n}{n - 1} + 1 - \\frac{1}{2 \\left(n - 1\\right)}\\right)}$"
      ],
      "text/plain": [
       "(2*n - 1)*(z - z5)*gamma(1 + 1/(2*(n - 1)))*hyper((-1/2, 1/(2*(n - 1))), ((2*n - 1)/(2*(n - 1)),), A**2*n**2*(z - z5)**(2*n - 2)*exp_polar(I*pi))/(2*(n - 1)*gamma(n/(n - 1) + 1 - 1/(2*(n - 1))))"
      ]
     },
     "execution_count": 13,
     "metadata": {},
     "output_type": "execute_result"
    }
   ],
   "source": [
    "A,n,z,z5 = smp.symbols('A n z z5',real=True,positive=True)\n",
    "f = smp.sqrt(1+(A*n*(z-z5)**(n-1))**2)\n",
    "smp.integrate(f,z).simplify()"
   ]
  },
  {
   "cell_type": "code",
   "execution_count": 36,
   "metadata": {},
   "outputs": [
    {
     "data": {
      "text/latex": [
       "$\\displaystyle \\begin{cases} \\frac{i \\left(- A^{2} \\sqrt{- A^{2} + \\left(- B + z\\right)^{2}} \\operatorname{acosh}{\\left(\\frac{- B + z}{A} \\right)} + A^{2} \\left(B - z\\right) - \\left(B - z\\right)^{3}\\right)}{2 \\sqrt{- A^{2} + \\left(- B + z\\right)^{2}}} & \\text{for}\\: \\frac{\\left(B - z\\right)^{2}}{A^{2}} > 1 \\\\- \\frac{A^{2} \\operatorname{asin}{\\left(\\frac{B - z}{A} \\right)}}{2} - \\frac{\\sqrt{A^{2} - \\left(B - z\\right)^{2}} \\left(B - z\\right)}{2} & \\text{otherwise} \\end{cases}$"
      ],
      "text/plain": [
       "Piecewise((I*(-A**2*sqrt(-A**2 + (-B + z)**2)*acosh((-B + z)/A) + A**2*(B - z) - (B - z)**3)/(2*sqrt(-A**2 + (-B + z)**2)), (B - z)**2/A**2 > 1), (-A**2*asin((B - z)/A)/2 - sqrt(A**2 - (B - z)**2)*(B - z)/2, True))"
      ]
     },
     "execution_count": 36,
     "metadata": {},
     "output_type": "execute_result"
    }
   ],
   "source": [
    "A,z,B = smp.symbols('A z B',real=True,positive=True)\n",
    "f=smp.sqrt(A**2-(z-B)**2)\n",
    "smp.integrate(f,z).simplify()"
   ]
  },
  {
   "cell_type": "code",
   "execution_count": null,
   "metadata": {},
   "outputs": [],
   "source": [
    "# def mfun(indict,z,n) => indict : b4,r4,Zr,rs5,rh5,Z5 \n",
    "# function that returns m for specific z at specic n\n",
    "# divnum=10\n",
    "# h   = (z-z0)/divnum\n",
    "hpreset = 0.5 *10**-3\n",
    "divnum  = int((z-z0)/hpreset)\n",
    "h       = (z-z0)/divnum\n",
    "\n",
    "odd = 0\n",
    "even = 0\n",
    "for i in range(0,divnum+1):\n",
    "    zi      = z0 + i*h\n",
    "    drperdz = (r4-rs5)/(Zr-b4)**n * n * (zi-z5)**(n-1)\n",
    "    dmperdz = np.sqrt(1 + drperdz**2)\n",
    "    if i == 0:\n",
    "        fx0 = dmperdz\n",
    "    if i%2 != 0 and i<=divnum-1:\n",
    "        odd += dmperdz\n",
    "    if i%2 == 0 and i<=divnum-2:\n",
    "        even += dmperdz\n",
    "    if i == divnum:\n",
    "        fxn = dmperdz\n",
    "\n",
    "m = (z-z0)*(fx0 + 4*odd + 2*even + fxn)/(3*divnum)    \n",
    "\n",
    "# return m"
   ]
  },
  {
   "cell_type": "code",
   "execution_count": null,
   "metadata": {},
   "outputs": [],
   "source": [
    "# def rfun(indict,z,n) => indict b4,r4,Zr,rs5,rh5,Z5\n",
    "xi  = (z-z5)/(Zr-b4)\n",
    "r   = rs5 + (r4-rs5)*xi**n\n",
    "\n",
    "\n",
    "# def phi\n",
    "drperdz = (r4-rs5)/(Zr-b4)**n * n * (z-z5)**(n-1)\n",
    "dmperdz = np.sqrt(1 + drperdz**2)\n",
    "phi     = drperdz/dmperdz\n"
   ]
  },
  {
   "cell_type": "code",
   "execution_count": null,
   "metadata": {},
   "outputs": [],
   "source": [
    "for i in range(-5,10+1):\n",
    "    if i%2==0:\n",
    "        print(f\"{i} is even\")\n",
    "    if i%2!=0:\n",
    "        print(f\"{i} is odd\")\n",
    "    if i%2==0 and i%3==0:\n",
    "        print(f\"{i} is even and 3 is factor of it\")"
   ]
  },
  {
   "cell_type": "code",
   "execution_count": 38,
   "metadata": {},
   "outputs": [],
   "source": [
    "x=5\n",
    "if x<=7 and x%2!=0 and x>=6:\n",
    "    print(x)"
   ]
  },
  {
   "cell_type": "code",
   "execution_count": 64,
   "metadata": {},
   "outputs": [],
   "source": [
    "from sympy import symbols,Eq,solve"
   ]
  },
  {
   "cell_type": "code",
   "execution_count": 55,
   "metadata": {},
   "outputs": [
    {
     "name": "stdout",
     "output_type": "stream",
     "text": [
      "[(1.00000000000000, 3.00000000000000), (13.5596216727053, 7.18654055756842)]\n"
     ]
    }
   ],
   "source": [
    "x,y= symbols('x y',real=True,positive=True)\n",
    "eq1= Eq(1-x+10*((y-3)/(4))**5,0)\n",
    "eq2= Eq(1/3*(x-1)+3-y,0)\n",
    "sol= solve((eq1,eq2),(x,y))\n",
    "print(sol)\n"
   ]
  },
  {
   "cell_type": "code",
   "execution_count": 82,
   "metadata": {},
   "outputs": [
    {
     "name": "stdout",
     "output_type": "stream",
     "text": [
      "[(10, 3)]\n"
     ]
    }
   ],
   "source": [
    "nesteddumlist = [(1,4),(8,9),(10,3),(1,-1),(-3,-4)]\n",
    "filtered      = [take for take in nesteddumlist if take[0]>9 and take[1]<4]\n",
    "print(filtered)\n"
   ]
  },
  {
   "cell_type": "code",
   "execution_count": 6,
   "metadata": {},
   "outputs": [
    {
     "name": "stdout",
     "output_type": "stream",
     "text": [
      "65536\n"
     ]
    }
   ],
   "source": [
    "def dumfun(alpha):\n",
    "    beta    = alpha**2\n",
    "    gamma   = beta**alpha\n",
    "    outputdict=dict()\n",
    "    for i in ('beta','gamma'):\n",
    "        outputdict[i]   = locals()[i]\n",
    "    return outputdict\n",
    "\n",
    "imp=dumfun(4)\n",
    "locals().update(imp)\n",
    "print(gamma)\n"
   ]
  },
  {
   "cell_type": "code",
   "execution_count": 48,
   "metadata": {},
   "outputs": [
    {
     "name": "stdout",
     "output_type": "stream",
     "text": [
      "[['dum'], ['dim', 'dam'], [], [], [], [], [], [], [], []]\n"
     ]
    }
   ],
   "source": [
    "''' \n",
    "Just docstring\n",
    "mind no time\n",
    "'''\n",
    "# dumlist = [[],[]]\n",
    "\n",
    "alist,blist,clist,dlist,dumlist = ([[]for i in range(0,9+1)] for i in range(5))\n",
    "# dumlist = [[]for i in range(0,9+1)]\n",
    "dumlist[0].append('dum')\n",
    "dumlist[1].append('dim')\n",
    "dumlist[1].append('dam')\n",
    "print(dumlist)"
   ]
  },
  {
   "cell_type": "code",
   "execution_count": 58,
   "metadata": {},
   "outputs": [
    {
     "name": "stdout",
     "output_type": "stream",
     "text": [
      "{'A': 3, 'B': 5} {'A': 420, 'B': 5, 'yoho': 89}\n",
      "[1, [2, 9], 3, 4, 5] [1, [99, 100], 3, 4, 5]\n"
     ]
    }
   ],
   "source": [
    "\n",
    "dumdict = {'A':3,'B':5}\n",
    "dimdict = dumdict.copy()\n",
    "dimdict['yoho']=89\n",
    "dimdict['A']=420\n",
    "print(dumdict,dimdict)\n",
    "alist=[1,[2,9],3,4,5]\n",
    "blist=alist.copy()\n",
    "blist[1]=[99,100]\n",
    "print(alist,blist)"
   ]
  },
  {
   "cell_type": "code",
   "execution_count": 60,
   "metadata": {},
   "outputs": [
    {
     "name": "stdout",
     "output_type": "stream",
     "text": [
      "The original elements before shallow copying\n",
      "1 2 [3, 5] 4 \n",
      "The original elements after shallow copying\n",
      "1 2 [7, 5] 4 "
     ]
    }
   ],
   "source": [
    "import copy\n",
    "  \n",
    "# initializing list 1\n",
    "li1 = [1, 2, [3,5], 4]\n",
    "  \n",
    "# using copy to shallow copy \n",
    "li2 = copy.copy(li1)\n",
    "  \n",
    "# original elements of list\n",
    "print (\"The original elements before shallow copying\")\n",
    "for i in range(0,len(li1)):\n",
    "    print (li1[i],end=\" \")\n",
    "  \n",
    "print(\"\\r\")\n",
    "\n",
    "# adding and element to new list\n",
    "li2[2][0] = 7\n",
    "  \n",
    "# checking if change is reflected\n",
    "print (\"The original elements after shallow copying\")\n",
    "for i in range(0,len( li1)):\n",
    "    print (li1[i],end=\" \")"
   ]
  },
  {
   "cell_type": "code",
   "execution_count": 8,
   "metadata": {},
   "outputs": [],
   "source": [
    "import pandas as pd\n",
    "alist = ['avalon','vega','horakh']\n",
    "blist = [99,100,101]\n",
    "datadum = {\n",
    "    'name': alist,\n",
    "    'value': blist\n",
    "}\n",
    "dfdum = pd.DataFrame(datadum)\n",
    "selhead = ['name']\n",
    "dfdum.to_csv(\"testo.txt\",columns=selhead,index=None,header=None,sep=' ',mode='w')"
   ]
  },
  {
   "cell_type": "code",
   "execution_count": 19,
   "metadata": {},
   "outputs": [
    {
     "name": "stdout",
     "output_type": "stream",
     "text": [
      "[(-1/2 + sqrt(21)/2, 11/2 - sqrt(21)/2)]\n"
     ]
    }
   ],
   "source": [
    "x,y=symbols('x y',real=True,positive=True)\n",
    "eq1 = Eq(y-x**2,0)\n",
    "eq2 = Eq(x+y-5,0)\n",
    "sol = solve((eq1,eq2),(x,y))\n",
    "print(sol)"
   ]
  },
  {
   "cell_type": "code",
   "execution_count": 31,
   "metadata": {},
   "outputs": [
    {
     "data": {
      "text/plain": [
       "3"
      ]
     },
     "execution_count": 31,
     "metadata": {},
     "output_type": "execute_result"
    }
   ],
   "source": [
    "def dumfun():\n",
    "    dumfun.vara     = 3\n",
    "    return dumfun.vara\n",
    "dumfun()\n",
    "dumfun.vara"
   ]
  },
  {
   "cell_type": "code",
   "execution_count": 41,
   "metadata": {},
   "outputs": [
    {
     "name": "stdout",
     "output_type": "stream",
     "text": [
      "     fun: 1.4589268938330874e-11\n",
      " message: 'Solution found.'\n",
      "    nfev: 28\n",
      "     nit: 28\n",
      "  status: 0\n",
      " success: True\n",
      "       x: 3.819590153192663e-06\n"
     ]
    }
   ],
   "source": [
    "import numpy as np\n",
    "from scipy import optimize\n",
    "def dumfun(x):\n",
    "    return x*np.sin(x)\n",
    "\n",
    "# boundsdum = [np.pi*0,np.pi*1]\n",
    "optsol  = optimize.minimize_scalar(dumfun,np.pi/8,method='Bounded',bounds=(np.pi*0,np.pi*1))\n",
    "print(optsol)"
   ]
  },
  {
   "cell_type": "code",
   "execution_count": 3,
   "metadata": {},
   "outputs": [
    {
     "name": "stdout",
     "output_type": "stream",
     "text": [
      "akey ['abc', 'acb']\n",
      "bkey ['bcd', 'bdc']\n"
     ]
    }
   ],
   "source": [
    "dumdict = {\n",
    "    'akey' : ['abc','acb'],\n",
    "    'bkey' : ['bcd','bdc']\n",
    "}\n",
    "\n",
    "for i in dumdict:\n",
    "    print(i,dumdict[i])"
   ]
  },
  {
   "cell_type": "code",
   "execution_count": 27,
   "metadata": {},
   "outputs": [
    {
     "data": {
      "text/plain": [
       "{Fab: 512.575757575758, Fac: 56.5340909090909, Fad: 538.958333333333}"
      ]
     },
     "execution_count": 27,
     "metadata": {},
     "output_type": "execute_result"
    }
   ],
   "source": [
    "from sympy import symbols,Eq,solve\n",
    "import numpy as np\n",
    "lab = np.sqrt(360**2+320**2+480**2)\n",
    "lac = np.sqrt(450**2+360**2+480**2)\n",
    "lad = np.sqrt(360**2+250**2+480**2)\n",
    "Fab,Fac,Fad = symbols('Fab Fac Fad', real=True)\n",
    "eqy = Eq(-Fab*(480/lab)-Fac*(480/lac)-Fad*(480/lad),-796)\n",
    "eqx = Eq(-Fab*(320/lab)+Fac*(450/lac)+Fad*(250/lad),0)\n",
    "eqz = Eq(-Fab*(360/lab)-Fac*(360/lac)+Fad*(360/lad),0)\n",
    "solve((eq1,eq2,eq3),(Fab,Fac,Fad))"
   ]
  },
  {
   "cell_type": "code",
   "execution_count": 5,
   "metadata": {},
   "outputs": [
    {
     "name": "stdout",
     "output_type": "stream",
     "text": [
      "1=7 \n",
      "done\n",
      "7\n"
     ]
    }
   ],
   "source": [
    "def dumfun(a:int,b:str):\n",
    "    b=1\n",
    "    for i in range(1,a):\n",
    "        b=b**i\n",
    "    print(f\"{b}={a} \")\n",
    "    print('done')\n",
    "    return a\n",
    "c=dumfun(7,'foo')\n",
    "d='donee'\n",
    "print(c)"
   ]
  },
  {
   "cell_type": "code",
   "execution_count": 4,
   "metadata": {},
   "outputs": [
    {
     "data": {
      "text/plain": [
       "0.6213727366498067"
      ]
     },
     "execution_count": 4,
     "metadata": {},
     "output_type": "execute_result"
    }
   ],
   "source": [
    "def lengthunitconverter(unitfrom:str,unitto:str,value):\n",
    "    \n",
    "    ''' conversion ratios of units to m '''\n",
    "    conratdict={\n",
    "        'm'         : 1,\n",
    "        'km'        : 1000,\n",
    "        'mi'        : 1609.34,\n",
    "        'Angstrom'  : 1e-10,\n",
    "        'inch'      : 0.0254,\n",
    "        'nm'        : 1e-9,\n",
    "        'micrometer': 1e-6\n",
    "    }\n",
    "\n",
    "    return conratdict[unitfrom]/conratdict[unitto] * value\n",
    "\n",
    "lengthunitconverter('km','mi',1)"
   ]
  },
  {
   "cell_type": "code",
   "execution_count": 62,
   "metadata": {},
   "outputs": [
    {
     "data": {
      "image/png": "[encoded data removed]",
      "text/plain": [
       "<Figure size 432x288 with 1 Axes>"
      ]
     },
     "metadata": {
      "needs_background": "light"
     },
     "output_type": "display_data"
    }
   ],
   "source": [
    "import matplotlib\n",
    "import matplotlib.pyplot as plt    \n",
    "import random\n",
    "\n",
    "\n",
    "s = (600,400)\n",
    "N = 1000\n",
    "\n",
    "segs = []\n",
    "colors = []\n",
    "my_cmap = plt.get_cmap('jet')\n",
    "for i in range(N):\n",
    "    x1 = random.triangular() * s[0]\n",
    "    y1 = random.triangular() * s[1]\n",
    "    x2 = random.triangular() * s[0]\n",
    "    y2 = random.triangular() * s[1]\n",
    "    c  = random.triangular()\n",
    "    colors.append(my_cmap(c))\n",
    "    segs.append(((x1, y1), (x2, y2)))\n",
    "\n",
    "ln_coll = matplotlib.collections.LineCollection(segs, colors='black')\n",
    "\n",
    "ax = plt.gca()\n",
    "ax.add_collection(ln_coll)\n",
    "ax.set_xlim(0, 600)    \n",
    "ax.set_ylim(0, 400)\n",
    "plt.draw()"
   ]
  }
 ],
 "metadata": {
  "kernelspec": {
   "display_name": "Python 3.10.5 ('ifrvenv': venv)",
   "language": "python",
   "name": "python3"
  },
  "language_info": {
   "codemirror_mode": {
    "name": "ipython",
    "version": 3
   },
   "file_extension": ".py",
   "mimetype": "text/x-python",
   "name": "python",
   "nbconvert_exporter": "python",
   "pygments_lexer": "ipython3",
   "version": "3.10.5"
  },
  "orig_nbformat": 4,
  "vscode": {
   "interpreter": {
    "hash": "1e752cfb7f6dadf51eebad56247554a6ca562cae379904bfe225e9f7ab5ccdf7"
   }
  }
 },
 "nbformat": 4,
 "nbformat_minor": 2
}
