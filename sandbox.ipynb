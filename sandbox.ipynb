{
 "cells": [
  {
   "cell_type": "code",
   "execution_count": 19,
   "metadata": {},
   "outputs": [
    {
     "name": "stdout",
     "output_type": "stream",
     "text": [
      "x:\\TA-Turbine-Design-13118082\n",
      "x:\\TA-Turbine-Design-13118082\\Inputs\\cyclelist.csv\n"
     ]
    },
    {
     "data": {
      "text/html": [
       "<div>\n",
       "<style scoped>\n",
       "    .dataframe tbody tr th:only-of-type {\n",
       "        vertical-align: middle;\n",
       "    }\n",
       "\n",
       "    .dataframe tbody tr th {\n",
       "        vertical-align: top;\n",
       "    }\n",
       "\n",
       "    .dataframe thead th {\n",
       "        text-align: right;\n",
       "    }\n",
       "</style>\n",
       "<table border=\"1\" class=\"dataframe\">\n",
       "  <thead>\n",
       "    <tr style=\"text-align: right;\">\n",
       "      <th></th>\n",
       "      <th>Unnamed: 0</th>\n",
       "      <th>fluid</th>\n",
       "      <th>T_1</th>\n",
       "      <th>P_1</th>\n",
       "      <th>T_5</th>\n",
       "      <th>P_5</th>\n",
       "      <th>mflow</th>\n",
       "    </tr>\n",
       "  </thead>\n",
       "  <tbody>\n",
       "    <tr>\n",
       "      <th>0</th>\n",
       "      <td>1</td>\n",
       "      <td>R245fa</td>\n",
       "      <td>360.0</td>\n",
       "      <td>0.9</td>\n",
       "      <td>335.4</td>\n",
       "      <td>0.4</td>\n",
       "      <td>0.5</td>\n",
       "    </tr>\n",
       "    <tr>\n",
       "      <th>1</th>\n",
       "      <td>2</td>\n",
       "      <td>NaN</td>\n",
       "      <td>NaN</td>\n",
       "      <td>NaN</td>\n",
       "      <td>NaN</td>\n",
       "      <td>NaN</td>\n",
       "      <td>NaN</td>\n",
       "    </tr>\n",
       "    <tr>\n",
       "      <th>2</th>\n",
       "      <td>3</td>\n",
       "      <td>NaN</td>\n",
       "      <td>NaN</td>\n",
       "      <td>NaN</td>\n",
       "      <td>NaN</td>\n",
       "      <td>NaN</td>\n",
       "      <td>NaN</td>\n",
       "    </tr>\n",
       "    <tr>\n",
       "      <th>3</th>\n",
       "      <td>4</td>\n",
       "      <td>NaN</td>\n",
       "      <td>NaN</td>\n",
       "      <td>NaN</td>\n",
       "      <td>NaN</td>\n",
       "      <td>NaN</td>\n",
       "      <td>NaN</td>\n",
       "    </tr>\n",
       "    <tr>\n",
       "      <th>4</th>\n",
       "      <td>5</td>\n",
       "      <td>NaN</td>\n",
       "      <td>NaN</td>\n",
       "      <td>NaN</td>\n",
       "      <td>NaN</td>\n",
       "      <td>NaN</td>\n",
       "      <td>NaN</td>\n",
       "    </tr>\n",
       "  </tbody>\n",
       "</table>\n",
       "</div>"
      ],
      "text/plain": [
       "   Unnamed: 0   fluid    T_1  P_1    T_5  P_5  mflow\n",
       "0           1  R245fa  360.0  0.9  335.4  0.4    0.5\n",
       "1           2     NaN    NaN  NaN    NaN  NaN    NaN\n",
       "2           3     NaN    NaN  NaN    NaN  NaN    NaN\n",
       "3           4     NaN    NaN  NaN    NaN  NaN    NaN\n",
       "4           5     NaN    NaN  NaN    NaN  NaN    NaN"
      ]
     },
     "execution_count": 19,
     "metadata": {},
     "output_type": "execute_result"
    }
   ],
   "source": [
    "import os\n",
    "Rutedir = os.path.dirname(os.path.abspath('__file__'))\n",
    "print(Rutedir)\n",
    "print(os.path.join(Rutedir,\"Inputs\\cyclelist.csv\"))\n",
    "rute=os.path.join(Rutedir,\"Inputs\\cyclelist.csv\")\n",
    "\n",
    "import pandas as pd\n",
    "dftessy=pd.read_csv(rute,skiprows=1,header=0,)\n",
    "dftessy.head()"
   ]
  },
  {
   "cell_type": "code",
   "execution_count": 57,
   "metadata": {},
   "outputs": [
    {
     "name": "stdout",
     "output_type": "stream",
     "text": [
      "x:\\TA-Turbine-Design-13118082\n",
      "[[ 9.  8.  7.  6.  5. 54.]\n",
      " [ 5.  0. nan nan nan nan]\n",
      " [ 4. nan  3. nan nan nan]\n",
      " [77. nan nan nan  3. nan]\n",
      " [ 4. nan nan nan nan  2.]\n",
      " [67. nan nan nan nan 69.]]\n",
      "4623.0\n"
     ]
    }
   ],
   "source": [
    "from definitions import *\n",
    "import numpy as np\n",
    "import pandas as pd\n",
    "print(ROOT_DIR)\n",
    "global p\n",
    "n=0\n",
    "p=np.zeros(shape=(6, 6))\n",
    "dffitfun = pd.read_csv(os.path.join(ROOT_DIR,\"Inputs\",\"fittedpolycoeffs\",f\"{n}.csv\"),skiprows=5,usecols=range(1,7),header=0,index_col=False)\n",
    "dffitfun.tail()\n",
    "for i in range(0,6):\n",
    "    for j in range(0,6):\n",
    "        p[i][j]=dffitfun.iloc[i][j]\n",
    "print(p)\n",
    "print(p[5][0]*p[5][5])"
   ]
  },
  {
   "cell_type": "code",
   "execution_count": 139,
   "metadata": {},
   "outputs": [
    {
     "name": "stdout",
     "output_type": "stream",
     "text": [
      "Rr5r4\n",
      "Rb5b4\n",
      "Rb4r4\n",
      "RZrr4\n",
      "NR\n"
     ]
    }
   ],
   "source": [
    "import pandas as pd\n",
    "import os\n",
    "from ifrturbinepackage.definitions import *\n",
    "import numpy as np\n",
    "# gparamlist=[Rr5r4,Rb5b4,Rb4r4,RZrr4,NR]\n",
    "# i=1\n",
    "# dfgparams=pd.read_csv(os.path.join(ROOT_DIR,\"Inputs\\gparamslist.csv\"),skiprows=1,header=0,index_col=0)\n",
    "# dfgparams.head()\n",
    "gparamlist=[[Rr5r4,'Rr5r4'],[Rb5b4,'Rb5b4'],[Rb4r4,'Rb4r4'],[RZrr4,'RZrr4'],[NR,'NR']]\n",
    "dfgparams=pd.read_csv(os.path.join(ROOT_DIR,\"Inputs\\gparamslist.csv\"),skiprows=1,header=0,index_col=0)\n",
    "dfgparams.head()\n",
    "for x in list(dfgparams.columns):\n",
    "    print(x)\n",
    "# print (np.shape(gparamlist)[0])\n",
    "# k=1\n",
    "# for x in range(np.shape(gparamlist)[0]):\n",
    "#     gparamlist[x][0]=dfgparams.iloc[k-1][gparamlist[x][1]]\n",
    "#     print(gparamlist[x][1],gparamlist[x][0])\n",
    "# print(dfgparams.iloc[])\n",
    "\n",
    "# for x in gparamlist:\n",
    "#     x = dfgparams.iloc[i-1][y]"
   ]
  },
  {
   "cell_type": "code",
   "execution_count": 128,
   "metadata": {},
   "outputs": [
    {
     "ename": "NameError",
     "evalue": "name 'T_5' is not defined",
     "output_type": "error",
     "traceback": [
      "\u001b[1;31m---------------------------------------------------------------------------\u001b[0m",
      "\u001b[1;31mNameError\u001b[0m                                 Traceback (most recent call last)",
      "\u001b[1;32mx:\\TA-Turbine-Design-13118082\\sandbox.ipynb Cell 4\u001b[0m in \u001b[0;36m<cell line: 8>\u001b[1;34m()\u001b[0m\n\u001b[0;32m      <a href='vscode-notebook-cell:/x%3A/TA-Turbine-Design-13118082/sandbox.ipynb#ch0000003?line=4'>5</a>\u001b[0m \u001b[39mfrom\u001b[39;00m \u001b[39mifrturbinepackage\u001b[39;00m\u001b[39m.\u001b[39;00m\u001b[39mvolute\u001b[39;00m \u001b[39mimport\u001b[39;00m \u001b[39m*\u001b[39m\n\u001b[0;32m      <a href='vscode-notebook-cell:/x%3A/TA-Turbine-Design-13118082/sandbox.ipynb#ch0000003?line=6'>7</a>\u001b[0m whichcycle(\u001b[39m10\u001b[39m)\n\u001b[1;32m----> <a href='vscode-notebook-cell:/x%3A/TA-Turbine-Design-13118082/sandbox.ipynb#ch0000003?line=7'>8</a>\u001b[0m \u001b[39mprint\u001b[39m(T_5)\n",
      "\u001b[1;31mNameError\u001b[0m: name 'T_5' is not defined"
     ]
    }
   ],
   "source": [
    "from ifrturbinepackage.definitions import *\n",
    "from ifrturbinepackage.inputs import *\n",
    "from ifrturbinepackage.rotor import *\n",
    "from ifrturbinepackage.nozzle import *\n",
    "from ifrturbinepackage.volute import *\n",
    "\n",
    "whichcycle(10)\n",
    "print(T_5)"
   ]
  },
  {
   "cell_type": "code",
   "execution_count": 134,
   "metadata": {},
   "outputs": [
    {
     "name": "stdout",
     "output_type": "stream",
     "text": [
      "98\n",
      "98 97\n"
     ]
    }
   ],
   "source": [
    "dummydict={'dum':98,'dim':97}\n",
    "print(dummydict['dum'])\n",
    "\n",
    "globals().update(dummydict)\n",
    "print(dum,dim)"
   ]
  },
  {
   "cell_type": "code",
   "execution_count": 1,
   "metadata": {},
   "outputs": [
    {
     "name": "stdout",
     "output_type": "stream",
     "text": [
      "3 7 5\n",
      "1 3\n"
     ]
    },
    {
     "ename": "NameError",
     "evalue": "name 'Cm5' is not defined",
     "output_type": "error",
     "traceback": [
      "\u001b[1;31m---------------------------------------------------------------------------\u001b[0m",
      "\u001b[1;31mNameError\u001b[0m                                 Traceback (most recent call last)",
      "\u001b[1;32mx:\\TA-Turbine-Design-13118082\\sandbox.ipynb Cell 6\u001b[0m in \u001b[0;36m<cell line: 10>\u001b[1;34m()\u001b[0m\n\u001b[0;32m      <a href='vscode-notebook-cell:/x%3A/TA-Turbine-Design-13118082/sandbox.ipynb#ch0000005?line=7'>8</a>\u001b[0m     \u001b[39mlocals\u001b[39m()[translist[i]]\u001b[39m=\u001b[39minlist[i]\n\u001b[0;32m      <a href='vscode-notebook-cell:/x%3A/TA-Turbine-Design-13118082/sandbox.ipynb#ch0000005?line=8'>9</a>\u001b[0m \u001b[39mprint\u001b[39m(Zr,Z5,rh5)\n\u001b[1;32m---> <a href='vscode-notebook-cell:/x%3A/TA-Turbine-Design-13118082/sandbox.ipynb#ch0000005?line=9'>10</a>\u001b[0m dum\u001b[39m=\u001b[39mQuasiNorm(inlist)\n",
      "File \u001b[1;32mx:\\TA-Turbine-Design-13118082\\ifrturbinepackage\\rotor.py:846\u001b[0m, in \u001b[0;36mQuasiNorm\u001b[1;34m(inlist)\u001b[0m\n\u001b[0;32m    841\u001b[0m     mh\u001b[39m.\u001b[39mappend(mh[i]\u001b[39m+\u001b[39m\u001b[39m2\u001b[39m\u001b[39m*\u001b[39m(i)\u001b[39m/\u001b[39m\u001b[39m3\u001b[39m)                                 \u001b[39m#Perbaiki value mh \u001b[39;00m\n\u001b[0;32m    844\u001b[0m \u001b[39m# Zm=(Z-Zh)/2\u001b[39;00m\n\u001b[0;32m    845\u001b[0m \u001b[39m# rm=(r-rh)/2\u001b[39;00m\n\u001b[1;32m--> 846\u001b[0m Betha5  \u001b[39m=\u001b[39m np\u001b[39m.\u001b[39marccos(Cm5\u001b[39m/\u001b[39mW5)\n\u001b[0;32m    847\u001b[0m Betha5s \u001b[39m=\u001b[39m np\u001b[39m.\u001b[39marctan(np\u001b[39m.\u001b[39mtan(Betha5)\u001b[39m/\u001b[39mrs5)\n\u001b[0;32m    848\u001b[0m Betha5h \u001b[39m=\u001b[39m np\u001b[39m.\u001b[39marctan(np\u001b[39m.\u001b[39mtan(Betha5)\u001b[39m/\u001b[39mrh5)\n",
      "\u001b[1;31mNameError\u001b[0m: name 'Cm5' is not defined"
     ]
    }
   ],
   "source": [
    "from ifrturbinepackage.rotor import *\n",
    "inlist=[1,2,3,4,5,6,7]\n",
    "# global Zr\n",
    "# Zr=0.05\n",
    "# dum=QuasiNorm(dumlist)\n",
    "translist=['b4','r4','Zr','rs5','rh5','n','Z5']\n",
    "for i in range(len(translist)):\n",
    "    locals()[translist[i]]=inlist[i]\n",
    "print(Zr,Z5,rh5)\n",
    "dum=QuasiNorm(inlist)"
   ]
  },
  {
   "cell_type": "code",
   "execution_count": 4,
   "metadata": {},
   "outputs": [
    {
     "name": "stdout",
     "output_type": "stream",
     "text": [
      "8\n",
      "7\n"
     ]
    }
   ],
   "source": [
    "zxc='dumvee'\n",
    "locals()[zxc]=8\n",
    "print(dumvee)\n",
    "print(len(dumlist))"
   ]
  },
  {
   "cell_type": "code",
   "execution_count": 6,
   "metadata": {},
   "outputs": [
    {
     "name": "stdout",
     "output_type": "stream",
     "text": [
      "2\n"
     ]
    }
   ],
   "source": [
    "print(dumlist[1])"
   ]
  }
 ],
 "metadata": {
  "kernelspec": {
   "display_name": "Python 3.10.5 ('TA-Turbine-Design': venv)",
   "language": "python",
   "name": "python3"
  },
  "language_info": {
   "codemirror_mode": {
    "name": "ipython",
    "version": 3
   },
   "file_extension": ".py",
   "mimetype": "text/x-python",
   "name": "python",
   "nbconvert_exporter": "python",
   "pygments_lexer": "ipython3",
   "version": "3.10.5"
  },
  "orig_nbformat": 4,
  "vscode": {
   "interpreter": {
    "hash": "d80a3ac338e464385995b106dc74eeba1cbeef0a960949e867e48dbfbca8f3d8"
   }
  }
 },
 "nbformat": 4,
 "nbformat_minor": 2
}
