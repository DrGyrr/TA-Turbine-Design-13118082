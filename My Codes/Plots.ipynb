{
 "cells": [
  {
   "cell_type": "code",
   "execution_count": 128,
   "metadata": {},
   "outputs": [],
   "source": [
    "#Coefficients (with 95% confidence bounds):\n",
    "import numpy as np\n",
    "import matplotlib.pyplot as plt\n",
    "from matplotlib.pyplot import figure\n",
    "def whichcycled(k):\n",
    "    global p\n",
    "    p=np.zeros(shape=(6, 6))\n",
    "    if k==3:\n",
    "        p=np.zeros(shape=(6, 6))\n",
    "        p[0][0] =      -112.4 \n",
    "        p[1][0] =       29.54 \n",
    "        p[0][1] =       46.75 \n",
    "        p[2][0] =      -30.73 \n",
    "        p[1][1] =        7.22 \n",
    "        p[0][2] =      -5.305 \n",
    "        p[3][0] =       5.809 \n",
    "        p[2][1] =      0.2481 \n",
    "        p[1][2] =     -0.5259 \n",
    "        p[0][3] =      0.2841 \n",
    "        p[4][0] =     -0.6329 \n",
    "        p[3][1] =     0.04815 \n",
    "        p[2][2] =    -0.02632 \n",
    "        p[1][3] =     0.01951 \n",
    "        p[0][4] =   -0.007687 \n",
    "        p[5][0] =     0.02749 \n",
    "        p[4][1] =   -0.003921 \n",
    "        p[3][2] =    0.001028 \n",
    "        p[2][3] =    7.81e-05 \n",
    "        p[1][4] =  -0.0002179 \n",
    "        p[0][5] =   8.017e-05 \n",
    "    if k==5:\n",
    "        p[0][0] =      -153.4 \n",
    "        p[1][0] =        21.8 \n",
    "        p[0][1] =       53.54 \n",
    "        p[2][0] =      -24.25 \n",
    "        p[1][1] =       15.18 \n",
    "        p[0][2] =      -8.156 \n",
    "        p[3][0] =       2.519 \n",
    "        p[2][1] =     -0.2644 \n",
    "        p[1][2] =     -0.7688 \n",
    "        p[0][3] =      0.4402 \n",
    "        p[4][0] =     -0.1172 \n",
    "        p[3][1] =     0.05063 \n",
    "        p[2][2] =    -0.03076 \n",
    "        p[1][3] =     0.02706 \n",
    "        p[0][4] =    -0.01025 \n",
    "    if k==4:\n",
    "        p[0][0] =       -1326 \n",
    "        p[1][0] =      -310.8  \n",
    "        p[0][1] =       650.6  \n",
    "        p[2][0] =      -162.9  \n",
    "        p[1][1] =       178.2  \n",
    "        p[0][2] =      -131.3  \n",
    "        p[3][0] =        66.7  \n",
    "        p[2][1] =      -4.398  \n",
    "        p[1][2] =      -22.17  \n",
    "        p[0][3] =       13.22  \n",
    "        p[4][0] =      -14.99  \n",
    "        p[3][1] =       1.882  \n",
    "        p[2][2] =    -0.09419  \n",
    "        p[1][3] =       1.296  \n",
    "        p[0][4] =     -0.6635  \n",
    "        p[5][0] =       1.309  \n",
    "        p[4][1] =     -0.2082  \n",
    "        p[3][2] =     0.01677  \n",
    "        p[2][3] =   -0.005227  \n",
    "        p[1][4] =    -0.02748  \n",
    "        p[0][5] =     0.01318  \n",
    "    if k==6:\n",
    "       p[0][0] =      -828.8  \n",
    "       p[1][0] =      -214.2  \n",
    "       p[0][1] =       388.8  \n",
    "       p[2][0] =       1.983  \n",
    "       p[1][1] =       53.91  \n",
    "       p[0][2] =      -63.39  \n",
    "       p[3][0] =       10.08  \n",
    "       p[2][1] =       -15.4  \n",
    "       p[1][2] =      0.5374  \n",
    "       p[0][3] =       4.392  \n",
    "       p[4][0] =      -2.227  \n",
    "       p[3][1] =       1.138  \n",
    "       p[2][2] =       1.113  \n",
    "       p[1][3] =     -0.4379  \n",
    "       p[0][4] =     -0.1087  \n",
    "       p[5][0] =     0.04593  \n",
    "       p[4][1] =     0.09757  \n",
    "       p[3][2] =     -0.1025  \n",
    "       p[2][3] =   -0.009254  \n",
    "       p[1][4] =     0.01532  \n",
    "    if k==8:\n",
    "        p[0][0] =      -285.9  \n",
    "        p[1][0] =       -56.2  \n",
    "        p[0][1] =       162.2  \n",
    "        p[2][0] =      -89.08  \n",
    "        p[1][1] =       37.96  \n",
    "        p[0][2] =      -29.07  \n",
    "        p[3][0] =      -55.04  \n",
    "        p[2][1] =       50.69  \n",
    "        p[1][2] =      -12.32  \n",
    "        p[0][3] =       3.039  \n",
    "        p[4][0] =      -7.265  \n",
    "        p[3][1] =       15.04  \n",
    "        p[2][2] =      -8.523  \n",
    "        p[1][3] =       1.677  \n",
    "        p[0][4] =     -0.1986  \n",
    "        p[5][0] =      0.5554  \n",
    "        p[4][1] =     -0.2706  \n",
    "        p[3][2] =      -0.361  \n",
    "        p[2][3] =      0.2681  \n",
    "        p[1][4] =    -0.05467  \n",
    "        p[0][5] =    0.005047  \n"
   ]
  },
  {
   "cell_type": "code",
   "execution_count": null,
   "metadata": {},
   "outputs": [],
   "source": [
    "def Effplot(fcoeffe1,wcoeffe1):\n",
    "    Effregressed=0\n",
    "    for i in range(0,6):\n",
    "        for j in range (0,6):\n",
    "            Effregressed=Effregressed+p[i][j]*fcoeffe1**i*wcoeffe1**j\n",
    "    return Effregressed\n"
   ]
  },
  {
   "cell_type": "code",
   "execution_count": 109,
   "metadata": {},
   "outputs": [
    {
     "data": {
      "text/plain": [
       "92.09627627000008"
      ]
     },
     "execution_count": 109,
     "metadata": {},
     "output_type": "execute_result"
    }
   ],
   "source": [
    "whichcycled(3)\n",
    "Effplot(2,11)"
   ]
  },
  {
   "cell_type": "code",
   "execution_count": 1,
   "metadata": {},
   "outputs": [
    {
     "ename": "NameError",
     "evalue": "name 'np' is not defined",
     "output_type": "error",
     "traceback": [
      "\u001b[1;31m---------------------------------------------------------------------------\u001b[0m",
      "\u001b[1;31mNameError\u001b[0m                                 Traceback (most recent call last)",
      "\u001b[1;32mx:\\TA-Turbine-Design-13118082\\My Codes\\Plots.ipynb Cell 4\u001b[0m in \u001b[0;36m<cell line: 1>\u001b[1;34m()\u001b[0m\n\u001b[1;32m----> <a href='vscode-notebook-cell:/x%3A/TA-Turbine-Design-13118082/My%20Codes/Plots.ipynb#ch0000003?line=0'>1</a>\u001b[0m wcoeff\u001b[39m=\u001b[39mnp\u001b[39m.\u001b[39mlinspace(\u001b[39m0\u001b[39m,\u001b[39m25\u001b[39m,\u001b[39m100\u001b[39m)\n\u001b[0;32m      <a href='vscode-notebook-cell:/x%3A/TA-Turbine-Design-13118082/My%20Codes/Plots.ipynb#ch0000003?line=1'>2</a>\u001b[0m fcoeff\u001b[39m=\u001b[39mnp\u001b[39m.\u001b[39mlinspace(\u001b[39m0\u001b[39m,\u001b[39m5\u001b[39m,\u001b[39m100\u001b[39m)\n\u001b[0;32m      <a href='vscode-notebook-cell:/x%3A/TA-Turbine-Design-13118082/My%20Codes/Plots.ipynb#ch0000003?line=2'>3</a>\u001b[0m X, Y \u001b[39m=\u001b[39m np\u001b[39m.\u001b[39mmeshgrid(fcoeff, wcoeff)\n",
      "\u001b[1;31mNameError\u001b[0m: name 'np' is not defined"
     ]
    }
   ],
   "source": [
    "wcoeff=np.linspace(0,25,100)\n",
    "fcoeff=np.linspace(0,5,100)\n",
    "X, Y = np.meshgrid(fcoeff, wcoeff)\n",
    "whichcycled(3)\n",
    "Z = Effplot(X,Y)\n",
    "\n",
    "fig,ax=plt.subplots(2,2,figsize=(15,11))\n",
    "# figure(figsize=(10, 10))\n",
    "plot1 = ax[0,0].contourf(X, Y, Z,levels=np.linspace(0,100,18),cmap='plasma')\n",
    "fig.colorbar(plot1,ax=ax[0,0]) # Add a colorbar to a plot\n",
    "ax[0,0].set_title('Efficiency, %,(cycle3)')\n",
    "ax[0,0].set_xlabel('flow coefficient x10')\n",
    "ax[0,0].set_ylabel('work coefficient x10')\n",
    "wcoeff=np.linspace(5,20,100)\n",
    "fcoeff=np.linspace(1,8,100)\n",
    "X, Y = np.meshgrid(fcoeff, wcoeff)\n",
    "whichcycled(5)\n",
    "Z = Effplot(X,Y)\n",
    "# fig,ax=plt.subplots(1,1)\n",
    "plot2 = ax[0,1].contourf(X, Y, Z,levels=np.linspace(0,100,20),cmap='plasma')\n",
    "fig.colorbar(plot2,ax=ax[0,1])\n",
    "ax[0,1].set_title('Efficiency, %,(cycle5)')\n",
    "ax[0,1].set_xlabel('flow coefficient x10')\n",
    "ax[0,1].set_ylabel('work coefficient x10')\n",
    "whichcycled(6)\n",
    "wcoeff=np.linspace(6,20,100)\n",
    "fcoeff=np.linspace(0,5,100)\n",
    "X, Y = np.meshgrid(fcoeff, wcoeff)\n",
    "Z = Effplot(X,Y)\n",
    "# fig,ax=plt.subplots(1,1)\n",
    "plot3 = ax[1,0].contourf(X, Y, Z,levels=np.linspace(0,100,20),cmap='plasma')\n",
    "fig.colorbar(plot3,ax=ax[1,0])\n",
    "ax[1,0].set_title('Efficiency, %,(cycle6)')\n",
    "ax[1,0].set_xlabel('flow coefficient x10')\n",
    "ax[1,0].set_ylabel('work coefficient x10')\n",
    "whichcycled(8)\n",
    "wcoeff=np.linspace(4,15,100)\n",
    "fcoeff=np.linspace(0,5,100)\n",
    "X, Y = np.meshgrid(fcoeff, wcoeff)\n",
    "Z = Effplot(X,Y)\n",
    "# fig,ax=plt.subplots(1,1)\n",
    "plot4 = ax[1,1].contourf(X, Y, Z,levels=np.linspace(0,100,15),cmap='plasma')\n",
    "fig.colorbar(plot4,ax=ax[1,1])\n",
    "ax[1,1].set_title('Efficiency, %,(cycle8)')\n",
    "ax[1,1].set_xlabel('flow coefficient x10')\n",
    "ax[1,1].set_ylabel('work coefficient x10')\n",
    "plt.show()\n"
   ]
  },
  {
   "cell_type": "markdown",
   "metadata": {},
   "source": [
    "##### Gather data & plots"
   ]
  }
 ],
 "metadata": {
  "kernelspec": {
   "display_name": "Python 3.10.5 ('TA-Turbine-Design': venv)",
   "language": "python",
   "name": "python3"
  },
  "language_info": {
   "codemirror_mode": {
    "name": "ipython",
    "version": 3
   },
   "file_extension": ".py",
   "mimetype": "text/x-python",
   "name": "python",
   "nbconvert_exporter": "python",
   "pygments_lexer": "ipython3",
   "version": "3.10.5"
  },
  "orig_nbformat": 4,
  "vscode": {
   "interpreter": {
    "hash": "d80a3ac338e464385995b106dc74eeba1cbeef0a960949e867e48dbfbca8f3d8"
   }
  }
 },
 "nbformat": 4,
 "nbformat_minor": 2
}
